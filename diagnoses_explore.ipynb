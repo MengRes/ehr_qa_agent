{
 "cells": [
  {
   "cell_type": "code",
   "execution_count": 1,
   "metadata": {},
   "outputs": [],
   "source": [
    "import os\n",
    "import pandas as pd\n",
    "import numpy as np\n",
    "import matplotlib.pyplot as plt\n",
    "import seaborn as sns\n",
    "import datetime\n",
    "\n",
    "from tqdm import tqdm\n",
    "from utils.utils import get_readable_file_size"
   ]
  },
  {
   "cell_type": "code",
   "execution_count": 2,
   "metadata": {},
   "outputs": [],
   "source": [
    "ehr_data_dir = \"/home/mengliang/DatasetFolder/mimiciv/2.2\""
   ]
  },
  {
   "cell_type": "markdown",
   "metadata": {},
   "source": [
    "### diagnoses ICD and DRG codes"
   ]
  },
  {
   "cell_type": "code",
   "execution_count": 3,
   "metadata": {},
   "outputs": [
    {
     "data": {
      "text/html": [
       "<div>\n",
       "<style scoped>\n",
       "    .dataframe tbody tr th:only-of-type {\n",
       "        vertical-align: middle;\n",
       "    }\n",
       "\n",
       "    .dataframe tbody tr th {\n",
       "        vertical-align: top;\n",
       "    }\n",
       "\n",
       "    .dataframe thead th {\n",
       "        text-align: right;\n",
       "    }\n",
       "</style>\n",
       "<table border=\"1\" class=\"dataframe\">\n",
       "  <thead>\n",
       "    <tr style=\"text-align: right;\">\n",
       "      <th></th>\n",
       "      <th>subject_id</th>\n",
       "      <th>hadm_id</th>\n",
       "      <th>seq_num</th>\n",
       "      <th>icd_code</th>\n",
       "      <th>icd_version</th>\n",
       "    </tr>\n",
       "  </thead>\n",
       "  <tbody>\n",
       "    <tr>\n",
       "      <th>0</th>\n",
       "      <td>10000032</td>\n",
       "      <td>22595853</td>\n",
       "      <td>1</td>\n",
       "      <td>5723</td>\n",
       "      <td>9</td>\n",
       "    </tr>\n",
       "    <tr>\n",
       "      <th>1</th>\n",
       "      <td>10000032</td>\n",
       "      <td>22595853</td>\n",
       "      <td>2</td>\n",
       "      <td>78959</td>\n",
       "      <td>9</td>\n",
       "    </tr>\n",
       "    <tr>\n",
       "      <th>2</th>\n",
       "      <td>10000032</td>\n",
       "      <td>22595853</td>\n",
       "      <td>3</td>\n",
       "      <td>5715</td>\n",
       "      <td>9</td>\n",
       "    </tr>\n",
       "    <tr>\n",
       "      <th>3</th>\n",
       "      <td>10000032</td>\n",
       "      <td>22595853</td>\n",
       "      <td>4</td>\n",
       "      <td>07070</td>\n",
       "      <td>9</td>\n",
       "    </tr>\n",
       "    <tr>\n",
       "      <th>4</th>\n",
       "      <td>10000032</td>\n",
       "      <td>22595853</td>\n",
       "      <td>5</td>\n",
       "      <td>496</td>\n",
       "      <td>9</td>\n",
       "    </tr>\n",
       "  </tbody>\n",
       "</table>\n",
       "</div>"
      ],
      "text/plain": [
       "   subject_id   hadm_id  seq_num icd_code  icd_version\n",
       "0    10000032  22595853        1     5723            9\n",
       "1    10000032  22595853        2    78959            9\n",
       "2    10000032  22595853        3     5715            9\n",
       "3    10000032  22595853        4    07070            9\n",
       "4    10000032  22595853        5      496            9"
      ]
     },
     "execution_count": 3,
     "metadata": {},
     "output_type": "execute_result"
    }
   ],
   "source": [
    "ehr_diagnoses_path = os.path.join(ehr_data_dir, \"hosp/diagnoses_icd.csv.gz\")\n",
    "df_ehr_diagnoses = pd.read_csv(ehr_diagnoses_path)\n",
    "df_ehr_diagnoses.head()"
   ]
  },
  {
   "cell_type": "code",
   "execution_count": 4,
   "metadata": {},
   "outputs": [
    {
     "data": {
      "text/html": [
       "<div>\n",
       "<style scoped>\n",
       "    .dataframe tbody tr th:only-of-type {\n",
       "        vertical-align: middle;\n",
       "    }\n",
       "\n",
       "    .dataframe tbody tr th {\n",
       "        vertical-align: top;\n",
       "    }\n",
       "\n",
       "    .dataframe thead th {\n",
       "        text-align: right;\n",
       "    }\n",
       "</style>\n",
       "<table border=\"1\" class=\"dataframe\">\n",
       "  <thead>\n",
       "    <tr style=\"text-align: right;\">\n",
       "      <th></th>\n",
       "      <th>subject_id</th>\n",
       "      <th>hadm_id</th>\n",
       "    </tr>\n",
       "  </thead>\n",
       "  <tbody>\n",
       "    <tr>\n",
       "      <th>0</th>\n",
       "      <td>10001217</td>\n",
       "      <td>27703517</td>\n",
       "    </tr>\n",
       "    <tr>\n",
       "      <th>1</th>\n",
       "      <td>10001884</td>\n",
       "      <td>26184834</td>\n",
       "    </tr>\n",
       "    <tr>\n",
       "      <th>6</th>\n",
       "      <td>10002013</td>\n",
       "      <td>23581541</td>\n",
       "    </tr>\n",
       "    <tr>\n",
       "      <th>10</th>\n",
       "      <td>10002428</td>\n",
       "      <td>28662225</td>\n",
       "    </tr>\n",
       "    <tr>\n",
       "      <th>11</th>\n",
       "      <td>10002428</td>\n",
       "      <td>23473524</td>\n",
       "    </tr>\n",
       "  </tbody>\n",
       "</table>\n",
       "</div>"
      ],
      "text/plain": [
       "    subject_id   hadm_id\n",
       "0     10001217  27703517\n",
       "1     10001884  26184834\n",
       "6     10002013  23581541\n",
       "10    10002428  28662225\n",
       "11    10002428  23473524"
      ]
     },
     "execution_count": 4,
     "metadata": {},
     "output_type": "execute_result"
    }
   ],
   "source": [
    "icu_cxr = pd.read_csv(os.path.join(\"outputs\", \"icu_cxr.csv.gz\"), compression=\"gzip\")\n",
    "selected_columns = [\"subject_id\", \"hadm_id\"]\n",
    "icu_subject_hadm_df = icu_cxr[selected_columns].copy()\n",
    "icu_subject_hadm_df.drop_duplicates(inplace=True, keep=\"first\")\n",
    "icu_subject_hadm_df.head()"
   ]
  },
  {
   "cell_type": "code",
   "execution_count": 5,
   "metadata": {},
   "outputs": [
    {
     "data": {
      "text/html": [
       "<div>\n",
       "<style scoped>\n",
       "    .dataframe tbody tr th:only-of-type {\n",
       "        vertical-align: middle;\n",
       "    }\n",
       "\n",
       "    .dataframe tbody tr th {\n",
       "        vertical-align: top;\n",
       "    }\n",
       "\n",
       "    .dataframe thead th {\n",
       "        text-align: right;\n",
       "    }\n",
       "</style>\n",
       "<table border=\"1\" class=\"dataframe\">\n",
       "  <thead>\n",
       "    <tr style=\"text-align: right;\">\n",
       "      <th></th>\n",
       "      <th>subject_id</th>\n",
       "      <th>hadm_id</th>\n",
       "      <th>seq_num</th>\n",
       "      <th>icd_code</th>\n",
       "      <th>icd_version</th>\n",
       "    </tr>\n",
       "  </thead>\n",
       "  <tbody>\n",
       "    <tr>\n",
       "      <th>0</th>\n",
       "      <td>10001217</td>\n",
       "      <td>27703517</td>\n",
       "      <td>1</td>\n",
       "      <td>3240</td>\n",
       "      <td>9</td>\n",
       "    </tr>\n",
       "    <tr>\n",
       "      <th>1</th>\n",
       "      <td>10001217</td>\n",
       "      <td>27703517</td>\n",
       "      <td>2</td>\n",
       "      <td>3485</td>\n",
       "      <td>9</td>\n",
       "    </tr>\n",
       "    <tr>\n",
       "      <th>2</th>\n",
       "      <td>10001217</td>\n",
       "      <td>27703517</td>\n",
       "      <td>3</td>\n",
       "      <td>340</td>\n",
       "      <td>9</td>\n",
       "    </tr>\n",
       "    <tr>\n",
       "      <th>3</th>\n",
       "      <td>10001217</td>\n",
       "      <td>27703517</td>\n",
       "      <td>4</td>\n",
       "      <td>04102</td>\n",
       "      <td>9</td>\n",
       "    </tr>\n",
       "    <tr>\n",
       "      <th>4</th>\n",
       "      <td>10001217</td>\n",
       "      <td>27703517</td>\n",
       "      <td>5</td>\n",
       "      <td>04184</td>\n",
       "      <td>9</td>\n",
       "    </tr>\n",
       "  </tbody>\n",
       "</table>\n",
       "</div>"
      ],
      "text/plain": [
       "   subject_id   hadm_id  seq_num icd_code  icd_version\n",
       "0    10001217  27703517        1     3240            9\n",
       "1    10001217  27703517        2     3485            9\n",
       "2    10001217  27703517        3      340            9\n",
       "3    10001217  27703517        4    04102            9\n",
       "4    10001217  27703517        5    04184            9"
      ]
     },
     "execution_count": 5,
     "metadata": {},
     "output_type": "execute_result"
    }
   ],
   "source": [
    "df_icu_diagnoses = pd.merge(icu_subject_hadm_df, df_ehr_diagnoses, \n",
    "                            on=[\"subject_id\", \"hadm_id\"], \n",
    "                            how=\"inner\")\n",
    "df_icu_diagnoses.head()"
   ]
  },
  {
   "cell_type": "code",
   "execution_count": 6,
   "metadata": {},
   "outputs": [
    {
     "data": {
      "text/html": [
       "<div>\n",
       "<style scoped>\n",
       "    .dataframe tbody tr th:only-of-type {\n",
       "        vertical-align: middle;\n",
       "    }\n",
       "\n",
       "    .dataframe tbody tr th {\n",
       "        vertical-align: top;\n",
       "    }\n",
       "\n",
       "    .dataframe thead th {\n",
       "        text-align: right;\n",
       "    }\n",
       "</style>\n",
       "<table border=\"1\" class=\"dataframe\">\n",
       "  <thead>\n",
       "    <tr style=\"text-align: right;\">\n",
       "      <th></th>\n",
       "      <th>icd_code</th>\n",
       "      <th>icd_version</th>\n",
       "      <th>long_title</th>\n",
       "    </tr>\n",
       "  </thead>\n",
       "  <tbody>\n",
       "    <tr>\n",
       "      <th>0</th>\n",
       "      <td>0010</td>\n",
       "      <td>9</td>\n",
       "      <td>Cholera due to vibrio cholerae</td>\n",
       "    </tr>\n",
       "    <tr>\n",
       "      <th>1</th>\n",
       "      <td>0011</td>\n",
       "      <td>9</td>\n",
       "      <td>Cholera due to vibrio cholerae el tor</td>\n",
       "    </tr>\n",
       "    <tr>\n",
       "      <th>2</th>\n",
       "      <td>0019</td>\n",
       "      <td>9</td>\n",
       "      <td>Cholera, unspecified</td>\n",
       "    </tr>\n",
       "    <tr>\n",
       "      <th>3</th>\n",
       "      <td>0020</td>\n",
       "      <td>9</td>\n",
       "      <td>Typhoid fever</td>\n",
       "    </tr>\n",
       "    <tr>\n",
       "      <th>4</th>\n",
       "      <td>0021</td>\n",
       "      <td>9</td>\n",
       "      <td>Paratyphoid fever A</td>\n",
       "    </tr>\n",
       "  </tbody>\n",
       "</table>\n",
       "</div>"
      ],
      "text/plain": [
       "  icd_code  icd_version                             long_title\n",
       "0     0010            9         Cholera due to vibrio cholerae\n",
       "1     0011            9  Cholera due to vibrio cholerae el tor\n",
       "2     0019            9                   Cholera, unspecified\n",
       "3     0020            9                          Typhoid fever\n",
       "4     0021            9                    Paratyphoid fever A"
      ]
     },
     "execution_count": 6,
     "metadata": {},
     "output_type": "execute_result"
    }
   ],
   "source": [
    "icd_diagnoses_path = os.path.join(ehr_data_dir, \"hosp/d_icd_diagnoses.csv.gz\")\n",
    "df_ehr_icd_diagnoses = pd.read_csv(icd_diagnoses_path)\n",
    "df_ehr_icd_diagnoses.head()"
   ]
  },
  {
   "cell_type": "code",
   "execution_count": 7,
   "metadata": {},
   "outputs": [
    {
     "data": {
      "text/html": [
       "<div>\n",
       "<style scoped>\n",
       "    .dataframe tbody tr th:only-of-type {\n",
       "        vertical-align: middle;\n",
       "    }\n",
       "\n",
       "    .dataframe tbody tr th {\n",
       "        vertical-align: top;\n",
       "    }\n",
       "\n",
       "    .dataframe thead th {\n",
       "        text-align: right;\n",
       "    }\n",
       "</style>\n",
       "<table border=\"1\" class=\"dataframe\">\n",
       "  <thead>\n",
       "    <tr style=\"text-align: right;\">\n",
       "      <th></th>\n",
       "      <th>subject_id</th>\n",
       "      <th>hadm_id</th>\n",
       "      <th>icd_code</th>\n",
       "      <th>icd_version</th>\n",
       "      <th>long_title</th>\n",
       "    </tr>\n",
       "  </thead>\n",
       "  <tbody>\n",
       "    <tr>\n",
       "      <th>0</th>\n",
       "      <td>10001217</td>\n",
       "      <td>27703517</td>\n",
       "      <td>3240</td>\n",
       "      <td>9</td>\n",
       "      <td>intracranial abscess</td>\n",
       "    </tr>\n",
       "    <tr>\n",
       "      <th>1</th>\n",
       "      <td>10001217</td>\n",
       "      <td>27703517</td>\n",
       "      <td>3485</td>\n",
       "      <td>9</td>\n",
       "      <td>cerebral edema</td>\n",
       "    </tr>\n",
       "    <tr>\n",
       "      <th>2</th>\n",
       "      <td>10001217</td>\n",
       "      <td>27703517</td>\n",
       "      <td>340</td>\n",
       "      <td>9</td>\n",
       "      <td>multiple sclerosis</td>\n",
       "    </tr>\n",
       "    <tr>\n",
       "      <th>3</th>\n",
       "      <td>10001217</td>\n",
       "      <td>27703517</td>\n",
       "      <td>04102</td>\n",
       "      <td>9</td>\n",
       "      <td>streptococcus infection in conditions classifi...</td>\n",
       "    </tr>\n",
       "    <tr>\n",
       "      <th>4</th>\n",
       "      <td>10001217</td>\n",
       "      <td>27703517</td>\n",
       "      <td>04184</td>\n",
       "      <td>9</td>\n",
       "      <td>other specified bacterial infections in condit...</td>\n",
       "    </tr>\n",
       "  </tbody>\n",
       "</table>\n",
       "</div>"
      ],
      "text/plain": [
       "   subject_id   hadm_id icd_code  icd_version  \\\n",
       "0    10001217  27703517     3240            9   \n",
       "1    10001217  27703517     3485            9   \n",
       "2    10001217  27703517      340            9   \n",
       "3    10001217  27703517    04102            9   \n",
       "4    10001217  27703517    04184            9   \n",
       "\n",
       "                                          long_title  \n",
       "0                               intracranial abscess  \n",
       "1                                     cerebral edema  \n",
       "2                                 multiple sclerosis  \n",
       "3  streptococcus infection in conditions classifi...  \n",
       "4  other specified bacterial infections in condit...  "
      ]
     },
     "execution_count": 7,
     "metadata": {},
     "output_type": "execute_result"
    }
   ],
   "source": [
    "df_icu_diagnoses_result = pd.merge(df_icu_diagnoses, df_ehr_icd_diagnoses,  \n",
    "                                   on=[\"icd_code\", \"icd_version\"], \n",
    "                                   how=\"left\")\n",
    "\n",
    "selected_columns = [\"subject_id\", \"hadm_id\", \"icd_code\", \"icd_version\", \"long_title\"]\n",
    "df_icu_diagnoses_result = df_icu_diagnoses_result[selected_columns]\n",
    "df_icu_diagnoses_result[\"long_title\"] = df_icu_diagnoses_result[\"long_title\"].str.lower()\n",
    "df_icu_diagnoses_result.head()"
   ]
  },
  {
   "cell_type": "code",
   "execution_count": 8,
   "metadata": {},
   "outputs": [],
   "source": [
    "df_icu_diagnoses_result.to_csv(os.path.join(\"outputs\", \"icu_diagnoses.csv.gz\"),\n",
    "                               index=False, compression=\"gzip\")"
   ]
  },
  {
   "cell_type": "code",
   "execution_count": 9,
   "metadata": {},
   "outputs": [
    {
     "name": "stdout",
     "output_type": "stream",
     "text": [
      "File size: 3.67 MB\n"
     ]
    }
   ],
   "source": [
    "readable_file_size = get_readable_file_size(os.path.join(\"outputs\", \"icu_diagnoses.csv.gz\"))\n",
    "print(f\"File size: {readable_file_size}\")"
   ]
  },
  {
   "cell_type": "code",
   "execution_count": 10,
   "metadata": {},
   "outputs": [],
   "source": [
    "import torch\n",
    "import ollama\n",
    "\n",
    "os.environ[\"CUDA_VISIBLE_DEVICES\"] = \"5, 6\"\n",
    "device = \"cuda\" if torch.cuda.is_available() else \"cpu\""
   ]
  },
  {
   "cell_type": "code",
   "execution_count": 11,
   "metadata": {},
   "outputs": [
    {
     "name": "stdout",
     "output_type": "stream",
     "text": [
      "This is the description to the icu_diagnoses.csv.gz file. This file is located in outputs/icu_diagnoses.csv.gz.\n",
      "subject_id: This unique identifier corresponds to each patient in the dataset. It allows for the association of patient-level data across different tables. Each patient only has one subject_id.\n",
      "hadm_id: This is the unique hospital admission ID. One patient can have multiple hospital admissions, corresponding to multiple hadm_ids.\n",
      "icd_code: This column contains the ICD (International Classification of Diseases) code, which is a standardized code used to identify specific diagnoses. This can be used to understand the medical conditions diagnosed during a patient’s hospital admission.\n",
      "icd_version: Indicates the version of the ICD coding system used (for example, ICD-9 or ICD-10). Different versions have slightly different codes, so this helps interpret the icd_code accurately.\n",
      "long_title: This is a descriptive label or title associated with each ICD code. It provides a full text description of the diagnosis, helping users to interpret what the ICD code represents in more detail.\n",
      "Please generate python code to answer the question. Only generate code for the question. no explanation and other description. use print to putput the result. the final result variable should be named as result.\n"
     ]
    }
   ],
   "source": [
    "# Open the file in read mode and read the content as a string\n",
    "with open('files/diagnoses_description.txt', 'r') as file:\n",
    "    description_text = file.read()\n",
    "\n",
    "with open('files/prompt_text.txt', 'r') as file:\n",
    "    prompt_text = file.read()\n",
    "\n",
    "# Print the content of the file\n",
    "print(description_text)\n",
    "print(prompt_text)"
   ]
  },
  {
   "cell_type": "code",
   "execution_count": 12,
   "metadata": {},
   "outputs": [
    {
     "name": "stdout",
     "output_type": "stream",
     "text": [
      "```python\n",
      "import pandas as pd\n",
      "\n",
      "# Load the dataset\n",
      "df = pd.read_csv('outputs/icu_diagnoses.csv.gz')\n",
      "\n",
      "# Filter for dementia diagnoses (ICD-10: F00, ICD-9: 290)\n",
      "dementia_icd_codes = df[(df['icd_code'].str.startswith('F00', na=False)) | ((df['icd_version'] == 'ICD-9') & (df['icd_code'] == '290'))]\n",
      "\n",
      "# Get unique patients diagnosed with dementia\n",
      "unique_patients_with_dementia = dementia_icd_codes['subject_id'].nunique()\n",
      "\n",
      "result = unique_patients_with_dementia\n",
      "print(result)\n",
      "```\n"
     ]
    }
   ],
   "source": [
    "# extract information from discharge summary\n",
    "description_text = description_text\n",
    "prompt_text = prompt_text\n",
    "question_text = \"How many patients are diagnosed with dementia?\"\n",
    "input_text = description_text + \" \" + prompt_text + \" \" + question_text\n",
    "\n",
    "response = ollama.chat(model=\"qwen2.5:14b\", messages = [{\"role\": \"user\", \"content\": input_text,}],\n",
    "                       stream=False)\n",
    "answer_text = response[\"message\"][\"content\"]\n",
    "print(answer_text)"
   ]
  },
  {
   "cell_type": "code",
   "execution_count": 13,
   "metadata": {},
   "outputs": [
    {
     "name": "stdout",
     "output_type": "stream",
     "text": [
      "0\n"
     ]
    }
   ],
   "source": [
    "import pandas as pd\n",
    "\n",
    "# Load the dataset\n",
    "df = pd.read_csv('outputs/icu_diagnoses.csv.gz')\n",
    "\n",
    "# Filter for dementia diagnoses (ICD-10: F00, ICD-9: 290)\n",
    "dementia_icd_codes = df[(df['icd_code'].str.startswith('F00', na=False)) | ((df['icd_version'] == 'ICD-9') & (df['icd_code'] == '290'))]\n",
    "\n",
    "# Get unique patients diagnosed with dementia\n",
    "unique_patients_with_dementia = dementia_icd_codes['subject_id'].nunique()\n",
    "\n",
    "result = unique_patients_with_dementia\n",
    "print(result)"
   ]
  },
  {
   "cell_type": "code",
   "execution_count": 20,
   "metadata": {},
   "outputs": [
    {
     "name": "stdout",
     "output_type": "stream",
     "text": [
      "```python\n",
      "import pandas as pd\n",
      "\n",
      "# Load the dataset\n",
      "df = pd.read_csv('outputs/icu_diagnoses.csv.gz')\n",
      "\n",
      "# Filter for the specific subject_id and hadm_id\n",
      "diagnosis_info = df[(df['subject_id'] == 10001217) & (df['hadm_id'] == 27703517)]\n",
      "\n",
      "# Extract the long title(s)\n",
      "result = diagnosis_info['long_title'].tolist()\n",
      "print(result)\n",
      "```\n"
     ]
    }
   ],
   "source": [
    "# extract information from discharge summary\n",
    "description_text = description_text\n",
    "prompt_text = prompt_text\n",
    "question_text = \"What ar the patient 10001217 is diagnosed with at hospitalization 27703517?\"\n",
    "input_text = description_text + \" \" + prompt_text + \" \" + question_text\n",
    "\n",
    "response = ollama.chat(model=\"qwen2.5:14b\", messages = [{\"role\": \"user\", \"content\": input_text,}],\n",
    "                       stream=False)\n",
    "answer_text = response[\"message\"][\"content\"]\n",
    "print(answer_text)"
   ]
  },
  {
   "cell_type": "code",
   "execution_count": 21,
   "metadata": {},
   "outputs": [
    {
     "name": "stdout",
     "output_type": "stream",
     "text": [
      "['intracranial abscess', 'cerebral edema', 'multiple sclerosis', 'streptococcus infection in conditions classified elsewhere and of unspecified site, streptococcus, group b', 'other specified bacterial infections in conditions classified elsewhere and of unspecified site, other anaerobes', 'unspecified essential hypertension', 'tobacco use disorder']\n"
     ]
    }
   ],
   "source": [
    "import pandas as pd\n",
    "\n",
    "# Load the dataset\n",
    "df = pd.read_csv('outputs/icu_diagnoses.csv.gz')\n",
    "\n",
    "# Filter for subject_id 100011217 and hadm_id 27703517\n",
    "filtered_df = df[(df['subject_id'] == 10001217) & (df['hadm_id'] == 27703517)]\n",
    "\n",
    "# Extract the long_title for the filtered data\n",
    "result = filtered_df['long_title'].tolist()\n",
    "print(result)"
   ]
  }
 ],
 "metadata": {
  "kernelspec": {
   "display_name": "PyTorch",
   "language": "python",
   "name": "python3"
  },
  "language_info": {
   "codemirror_mode": {
    "name": "ipython",
    "version": 3
   },
   "file_extension": ".py",
   "mimetype": "text/x-python",
   "name": "python",
   "nbconvert_exporter": "python",
   "pygments_lexer": "ipython3",
   "version": "3.10.10"
  }
 },
 "nbformat": 4,
 "nbformat_minor": 2
}
