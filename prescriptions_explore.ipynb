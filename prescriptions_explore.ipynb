{
 "cells": [
  {
   "cell_type": "code",
   "execution_count": 1,
   "metadata": {},
   "outputs": [],
   "source": [
    "import os\n",
    "import pandas as pd\n",
    "import numpy as np\n",
    "import matplotlib.pyplot as plt\n",
    "import seaborn as sns\n",
    "import datetime\n",
    "\n",
    "from tqdm import tqdm\n",
    "from utils.utils import get_readable_file_size"
   ]
  },
  {
   "cell_type": "code",
   "execution_count": 2,
   "metadata": {},
   "outputs": [],
   "source": [
    "ehr_data_dir = \"/home/mengliang/DatasetFolder/mimiciv/2.2\""
   ]
  },
  {
   "cell_type": "code",
   "execution_count": 3,
   "metadata": {},
   "outputs": [
    {
     "name": "stderr",
     "output_type": "stream",
     "text": [
      "/tmp/ipykernel_3046481/264447090.py:2: DtypeWarning: Columns (11) have mixed types. Specify dtype option on import or set low_memory=False.\n",
      "  df_ehr_presrciptions = pd.read_csv(ehr_presrciptions_path, index_col=False)\n"
     ]
    },
    {
     "data": {
      "text/html": [
       "<div>\n",
       "<style scoped>\n",
       "    .dataframe tbody tr th:only-of-type {\n",
       "        vertical-align: middle;\n",
       "    }\n",
       "\n",
       "    .dataframe tbody tr th {\n",
       "        vertical-align: top;\n",
       "    }\n",
       "\n",
       "    .dataframe thead th {\n",
       "        text-align: right;\n",
       "    }\n",
       "</style>\n",
       "<table border=\"1\" class=\"dataframe\">\n",
       "  <thead>\n",
       "    <tr style=\"text-align: right;\">\n",
       "      <th></th>\n",
       "      <th>subject_id</th>\n",
       "      <th>hadm_id</th>\n",
       "      <th>starttime</th>\n",
       "      <th>stoptime</th>\n",
       "      <th>drug</th>\n",
       "      <th>dose_val_rx</th>\n",
       "      <th>dose_unit_rx</th>\n",
       "      <th>route</th>\n",
       "    </tr>\n",
       "  </thead>\n",
       "  <tbody>\n",
       "    <tr>\n",
       "      <th>0</th>\n",
       "      <td>10000032</td>\n",
       "      <td>22595853</td>\n",
       "      <td>2180-05-07 01:00:00</td>\n",
       "      <td>2180-05-07 22:00:00</td>\n",
       "      <td>Acetaminophen</td>\n",
       "      <td>500</td>\n",
       "      <td>mg</td>\n",
       "      <td>PO/NG</td>\n",
       "    </tr>\n",
       "    <tr>\n",
       "      <th>1</th>\n",
       "      <td>10000032</td>\n",
       "      <td>22595853</td>\n",
       "      <td>2180-05-07 00:00:00</td>\n",
       "      <td>2180-05-07 22:00:00</td>\n",
       "      <td>Sodium Chloride 0.9%  Flush</td>\n",
       "      <td>3</td>\n",
       "      <td>mL</td>\n",
       "      <td>IV</td>\n",
       "    </tr>\n",
       "    <tr>\n",
       "      <th>2</th>\n",
       "      <td>10000032</td>\n",
       "      <td>22595853</td>\n",
       "      <td>2180-05-08 08:00:00</td>\n",
       "      <td>2180-05-07 22:00:00</td>\n",
       "      <td>Furosemide</td>\n",
       "      <td>40</td>\n",
       "      <td>mg</td>\n",
       "      <td>PO/NG</td>\n",
       "    </tr>\n",
       "    <tr>\n",
       "      <th>3</th>\n",
       "      <td>10000032</td>\n",
       "      <td>22595853</td>\n",
       "      <td>2180-05-07 01:00:00</td>\n",
       "      <td>2180-05-07 22:00:00</td>\n",
       "      <td>Raltegravir</td>\n",
       "      <td>400</td>\n",
       "      <td>mg</td>\n",
       "      <td>PO</td>\n",
       "    </tr>\n",
       "    <tr>\n",
       "      <th>4</th>\n",
       "      <td>10000032</td>\n",
       "      <td>22595853</td>\n",
       "      <td>2180-05-07 00:00:00</td>\n",
       "      <td>2180-05-07 22:00:00</td>\n",
       "      <td>Heparin</td>\n",
       "      <td>5000</td>\n",
       "      <td>UNIT</td>\n",
       "      <td>SC</td>\n",
       "    </tr>\n",
       "  </tbody>\n",
       "</table>\n",
       "</div>"
      ],
      "text/plain": [
       "   subject_id   hadm_id            starttime             stoptime  \\\n",
       "0    10000032  22595853  2180-05-07 01:00:00  2180-05-07 22:00:00   \n",
       "1    10000032  22595853  2180-05-07 00:00:00  2180-05-07 22:00:00   \n",
       "2    10000032  22595853  2180-05-08 08:00:00  2180-05-07 22:00:00   \n",
       "3    10000032  22595853  2180-05-07 01:00:00  2180-05-07 22:00:00   \n",
       "4    10000032  22595853  2180-05-07 00:00:00  2180-05-07 22:00:00   \n",
       "\n",
       "                          drug dose_val_rx dose_unit_rx  route  \n",
       "0                Acetaminophen         500           mg  PO/NG  \n",
       "1  Sodium Chloride 0.9%  Flush           3           mL     IV  \n",
       "2                   Furosemide          40           mg  PO/NG  \n",
       "3                  Raltegravir         400           mg     PO  \n",
       "4                      Heparin        5000         UNIT     SC  "
      ]
     },
     "execution_count": 3,
     "metadata": {},
     "output_type": "execute_result"
    }
   ],
   "source": [
    "ehr_presrciptions_path = os.path.join(ehr_data_dir, \"hosp/prescriptions.csv.gz\")\n",
    "df_ehr_presrciptions = pd.read_csv(ehr_presrciptions_path, index_col=False)\n",
    "\n",
    "selected_columns = ['subject_id', 'hadm_id', 'starttime', 'stoptime', 'drug', 'dose_val_rx', 'dose_unit_rx', 'route']\n",
    "df_ehr_presrciptions = df_ehr_presrciptions[selected_columns]\n",
    "\n",
    "df_ehr_presrciptions.head()"
   ]
  },
  {
   "cell_type": "code",
   "execution_count": 4,
   "metadata": {},
   "outputs": [
    {
     "data": {
      "text/html": [
       "<div>\n",
       "<style scoped>\n",
       "    .dataframe tbody tr th:only-of-type {\n",
       "        vertical-align: middle;\n",
       "    }\n",
       "\n",
       "    .dataframe tbody tr th {\n",
       "        vertical-align: top;\n",
       "    }\n",
       "\n",
       "    .dataframe thead th {\n",
       "        text-align: right;\n",
       "    }\n",
       "</style>\n",
       "<table border=\"1\" class=\"dataframe\">\n",
       "  <thead>\n",
       "    <tr style=\"text-align: right;\">\n",
       "      <th></th>\n",
       "      <th>subject_id</th>\n",
       "      <th>hadm_id</th>\n",
       "    </tr>\n",
       "  </thead>\n",
       "  <tbody>\n",
       "    <tr>\n",
       "      <th>0</th>\n",
       "      <td>10001217</td>\n",
       "      <td>27703517</td>\n",
       "    </tr>\n",
       "    <tr>\n",
       "      <th>1</th>\n",
       "      <td>10001884</td>\n",
       "      <td>26184834</td>\n",
       "    </tr>\n",
       "    <tr>\n",
       "      <th>6</th>\n",
       "      <td>10002013</td>\n",
       "      <td>23581541</td>\n",
       "    </tr>\n",
       "    <tr>\n",
       "      <th>10</th>\n",
       "      <td>10002428</td>\n",
       "      <td>28662225</td>\n",
       "    </tr>\n",
       "    <tr>\n",
       "      <th>11</th>\n",
       "      <td>10002428</td>\n",
       "      <td>23473524</td>\n",
       "    </tr>\n",
       "  </tbody>\n",
       "</table>\n",
       "</div>"
      ],
      "text/plain": [
       "    subject_id   hadm_id\n",
       "0     10001217  27703517\n",
       "1     10001884  26184834\n",
       "6     10002013  23581541\n",
       "10    10002428  28662225\n",
       "11    10002428  23473524"
      ]
     },
     "execution_count": 4,
     "metadata": {},
     "output_type": "execute_result"
    }
   ],
   "source": [
    "icu_cxr = pd.read_csv(os.path.join(\"outputs\", \"icu_cxr.csv.gz\"), compression=\"gzip\")\n",
    "selected_columns = [\"subject_id\", \"hadm_id\"]\n",
    "icu_subject_hadm_df = icu_cxr[selected_columns].copy()\n",
    "icu_subject_hadm_df.drop_duplicates(inplace=True, keep=\"first\")\n",
    "icu_subject_hadm_df.head()"
   ]
  },
  {
   "cell_type": "code",
   "execution_count": 5,
   "metadata": {},
   "outputs": [
    {
     "data": {
      "text/html": [
       "<div>\n",
       "<style scoped>\n",
       "    .dataframe tbody tr th:only-of-type {\n",
       "        vertical-align: middle;\n",
       "    }\n",
       "\n",
       "    .dataframe tbody tr th {\n",
       "        vertical-align: top;\n",
       "    }\n",
       "\n",
       "    .dataframe thead th {\n",
       "        text-align: right;\n",
       "    }\n",
       "</style>\n",
       "<table border=\"1\" class=\"dataframe\">\n",
       "  <thead>\n",
       "    <tr style=\"text-align: right;\">\n",
       "      <th></th>\n",
       "      <th>subject_id</th>\n",
       "      <th>hadm_id</th>\n",
       "      <th>starttime</th>\n",
       "      <th>stoptime</th>\n",
       "      <th>drug</th>\n",
       "      <th>dose_val_rx</th>\n",
       "      <th>dose_unit_rx</th>\n",
       "      <th>route</th>\n",
       "    </tr>\n",
       "  </thead>\n",
       "  <tbody>\n",
       "    <tr>\n",
       "      <th>0</th>\n",
       "      <td>10001217</td>\n",
       "      <td>27703517</td>\n",
       "      <td>2157-12-19 16:00:00</td>\n",
       "      <td>2157-12-24 19:00:00</td>\n",
       "      <td>Bisacodyl</td>\n",
       "      <td>10</td>\n",
       "      <td>mg</td>\n",
       "      <td>PO</td>\n",
       "    </tr>\n",
       "    <tr>\n",
       "      <th>1</th>\n",
       "      <td>10001217</td>\n",
       "      <td>27703517</td>\n",
       "      <td>2157-12-19 16:00:00</td>\n",
       "      <td>2157-12-24 19:00:00</td>\n",
       "      <td>OxycoDONE (Immediate Release)</td>\n",
       "      <td>5-10</td>\n",
       "      <td>mg</td>\n",
       "      <td>PO/NG</td>\n",
       "    </tr>\n",
       "    <tr>\n",
       "      <th>2</th>\n",
       "      <td>10001217</td>\n",
       "      <td>27703517</td>\n",
       "      <td>2157-12-19 16:00:00</td>\n",
       "      <td>2157-12-24 19:00:00</td>\n",
       "      <td>OxycoDONE (Immediate Release)</td>\n",
       "      <td>5-10</td>\n",
       "      <td>mg</td>\n",
       "      <td>PO/NG</td>\n",
       "    </tr>\n",
       "    <tr>\n",
       "      <th>3</th>\n",
       "      <td>10001217</td>\n",
       "      <td>27703517</td>\n",
       "      <td>2157-12-18 20:00:00</td>\n",
       "      <td>2157-12-18 19:00:00</td>\n",
       "      <td>LeVETiracetam</td>\n",
       "      <td>1000</td>\n",
       "      <td>mg</td>\n",
       "      <td>PO</td>\n",
       "    </tr>\n",
       "    <tr>\n",
       "      <th>4</th>\n",
       "      <td>10001217</td>\n",
       "      <td>27703517</td>\n",
       "      <td>2157-12-19 22:00:00</td>\n",
       "      <td>2157-12-20 14:00:00</td>\n",
       "      <td>Vial</td>\n",
       "      <td>1</td>\n",
       "      <td>VIAL</td>\n",
       "      <td>IV</td>\n",
       "    </tr>\n",
       "  </tbody>\n",
       "</table>\n",
       "</div>"
      ],
      "text/plain": [
       "   subject_id   hadm_id            starttime             stoptime  \\\n",
       "0    10001217  27703517  2157-12-19 16:00:00  2157-12-24 19:00:00   \n",
       "1    10001217  27703517  2157-12-19 16:00:00  2157-12-24 19:00:00   \n",
       "2    10001217  27703517  2157-12-19 16:00:00  2157-12-24 19:00:00   \n",
       "3    10001217  27703517  2157-12-18 20:00:00  2157-12-18 19:00:00   \n",
       "4    10001217  27703517  2157-12-19 22:00:00  2157-12-20 14:00:00   \n",
       "\n",
       "                             drug dose_val_rx dose_unit_rx  route  \n",
       "0                       Bisacodyl          10           mg     PO  \n",
       "1  OxycoDONE (Immediate Release)         5-10           mg  PO/NG  \n",
       "2  OxycoDONE (Immediate Release)         5-10           mg  PO/NG  \n",
       "3                   LeVETiracetam        1000           mg     PO  \n",
       "4                            Vial           1         VIAL     IV  "
      ]
     },
     "execution_count": 5,
     "metadata": {},
     "output_type": "execute_result"
    }
   ],
   "source": [
    "df_icu_prescriptions = pd.merge(icu_subject_hadm_df, df_ehr_presrciptions, \n",
    "                                on=[\"subject_id\", \"hadm_id\"], \n",
    "                                how=\"inner\")\n",
    "df_icu_prescriptions.head()"
   ]
  },
  {
   "cell_type": "code",
   "execution_count": 6,
   "metadata": {},
   "outputs": [
    {
     "data": {
      "text/html": [
       "<div>\n",
       "<style scoped>\n",
       "    .dataframe tbody tr th:only-of-type {\n",
       "        vertical-align: middle;\n",
       "    }\n",
       "\n",
       "    .dataframe tbody tr th {\n",
       "        vertical-align: top;\n",
       "    }\n",
       "\n",
       "    .dataframe thead th {\n",
       "        text-align: right;\n",
       "    }\n",
       "</style>\n",
       "<table border=\"1\" class=\"dataframe\">\n",
       "  <thead>\n",
       "    <tr style=\"text-align: right;\">\n",
       "      <th></th>\n",
       "      <th>subject_id</th>\n",
       "      <th>hadm_id</th>\n",
       "      <th>starttime</th>\n",
       "      <th>stoptime</th>\n",
       "      <th>drug</th>\n",
       "      <th>dose_val_rx</th>\n",
       "      <th>dose_unit_rx</th>\n",
       "      <th>route</th>\n",
       "    </tr>\n",
       "  </thead>\n",
       "  <tbody>\n",
       "    <tr>\n",
       "      <th>0</th>\n",
       "      <td>10001217</td>\n",
       "      <td>27703517</td>\n",
       "      <td>2157-12-19 16:00:00</td>\n",
       "      <td>2157-12-24 19:00:00</td>\n",
       "      <td>bisacodyl</td>\n",
       "      <td>10</td>\n",
       "      <td>mg</td>\n",
       "      <td>po</td>\n",
       "    </tr>\n",
       "    <tr>\n",
       "      <th>1</th>\n",
       "      <td>10001217</td>\n",
       "      <td>27703517</td>\n",
       "      <td>2157-12-19 16:00:00</td>\n",
       "      <td>2157-12-24 19:00:00</td>\n",
       "      <td>oxycodone (immediate release)</td>\n",
       "      <td>5-10</td>\n",
       "      <td>mg</td>\n",
       "      <td>po/ng</td>\n",
       "    </tr>\n",
       "    <tr>\n",
       "      <th>2</th>\n",
       "      <td>10001217</td>\n",
       "      <td>27703517</td>\n",
       "      <td>2157-12-19 16:00:00</td>\n",
       "      <td>2157-12-24 19:00:00</td>\n",
       "      <td>oxycodone (immediate release)</td>\n",
       "      <td>5-10</td>\n",
       "      <td>mg</td>\n",
       "      <td>po/ng</td>\n",
       "    </tr>\n",
       "    <tr>\n",
       "      <th>3</th>\n",
       "      <td>10001217</td>\n",
       "      <td>27703517</td>\n",
       "      <td>2157-12-18 20:00:00</td>\n",
       "      <td>2157-12-18 19:00:00</td>\n",
       "      <td>levetiracetam</td>\n",
       "      <td>1000</td>\n",
       "      <td>mg</td>\n",
       "      <td>po</td>\n",
       "    </tr>\n",
       "    <tr>\n",
       "      <th>4</th>\n",
       "      <td>10001217</td>\n",
       "      <td>27703517</td>\n",
       "      <td>2157-12-19 22:00:00</td>\n",
       "      <td>2157-12-20 14:00:00</td>\n",
       "      <td>vial</td>\n",
       "      <td>1</td>\n",
       "      <td>vial</td>\n",
       "      <td>iv</td>\n",
       "    </tr>\n",
       "  </tbody>\n",
       "</table>\n",
       "</div>"
      ],
      "text/plain": [
       "   subject_id   hadm_id            starttime             stoptime  \\\n",
       "0    10001217  27703517  2157-12-19 16:00:00  2157-12-24 19:00:00   \n",
       "1    10001217  27703517  2157-12-19 16:00:00  2157-12-24 19:00:00   \n",
       "2    10001217  27703517  2157-12-19 16:00:00  2157-12-24 19:00:00   \n",
       "3    10001217  27703517  2157-12-18 20:00:00  2157-12-18 19:00:00   \n",
       "4    10001217  27703517  2157-12-19 22:00:00  2157-12-20 14:00:00   \n",
       "\n",
       "                             drug dose_val_rx dose_unit_rx  route  \n",
       "0                       bisacodyl          10           mg     po  \n",
       "1  oxycodone (immediate release)         5-10           mg  po/ng  \n",
       "2  oxycodone (immediate release)         5-10           mg  po/ng  \n",
       "3                   levetiracetam        1000           mg     po  \n",
       "4                            vial           1         vial     iv  "
      ]
     },
     "execution_count": 6,
     "metadata": {},
     "output_type": "execute_result"
    }
   ],
   "source": [
    "df_icu_prescriptions[\"drug\"] = df_icu_prescriptions[\"drug\"].str.lower()\n",
    "df_icu_prescriptions[\"dose_unit_rx\"] = df_icu_prescriptions[\"dose_unit_rx\"].str.lower()\n",
    "df_icu_prescriptions[\"route\"] = df_icu_prescriptions[\"route\"].str.lower()\n",
    "\n",
    "df_icu_prescriptions.head()"
   ]
  },
  {
   "cell_type": "code",
   "execution_count": 7,
   "metadata": {},
   "outputs": [
    {
     "name": "stdout",
     "output_type": "stream",
     "text": [
      "Index(['subject_id', 'hadm_id', 'starttime', 'stoptime', 'drug', 'dose_val_rx',\n",
      "       'dose_unit_rx', 'route'],\n",
      "      dtype='object')\n"
     ]
    }
   ],
   "source": [
    "print(df_icu_prescriptions.columns)"
   ]
  },
  {
   "cell_type": "code",
   "execution_count": 8,
   "metadata": {},
   "outputs": [],
   "source": [
    "df_icu_prescriptions.to_csv(os.path.join(\"outputs\", \"icu_prescriptions.csv.gz\"),\n",
    "                            index=False, compression=\"gzip\")"
   ]
  },
  {
   "cell_type": "code",
   "execution_count": 9,
   "metadata": {},
   "outputs": [
    {
     "name": "stdout",
     "output_type": "stream",
     "text": [
      "File size: 15.74 MB\n"
     ]
    }
   ],
   "source": [
    "readable_file_size = get_readable_file_size(os.path.join(\"outputs\", \"icu_prescriptions.csv.gz\"))\n",
    "print(f\"File size: {readable_file_size}\")"
   ]
  },
  {
   "cell_type": "code",
   "execution_count": 10,
   "metadata": {},
   "outputs": [],
   "source": [
    "import torch\n",
    "import ollama\n",
    "\n",
    "os.environ[\"CUDA_VISIBLE_DEVICES\"] = \"5, 6\"\n",
    "device = \"cuda\" if torch.cuda.is_available() else \"cpu\""
   ]
  },
  {
   "cell_type": "code",
   "execution_count": 11,
   "metadata": {},
   "outputs": [
    {
     "name": "stdout",
     "output_type": "stream",
     "text": [
      "This is the description to the icu_prescriptions.csv.gz file. This file is located in outputs/icu_prescriptions.csv.gz.\n",
      "subject_id: A unique identifier for each patient. This ID differentiates each patient in the database.\n",
      "hadm_id: A unique identifier for each hospital admission. Each admission is associated with a unique hadm_id, distinguishing multiple admissions for the same patient.\n",
      "starttime: The time when the prescription was started. This timestamp records when the medication administration began, often down to the minute.\n",
      "stoptime: The time when the prescription was stopped. This indicates the end time for the medication administration.\n",
      "drug: The name of the prescribed medication. This provides a human-readable name for the drug that was administered to the patient. All characters are in lowercase.\n",
      "dose_val_rx: The prescribed dosage value. This represents the amount of medication to be administered per dose.\n",
      "dose_unit_rx: The unit of measurement for the dosage. This specifies the unit for dose_val_rx, such as milligrams (mg) or milliliters (ml). All characters are in lowercase.\n",
      "route: The route of administration for the medication. This describes how the medication was administered, such as orally, intravenously (iv), or intramuscularly (im). All characters are in lowercase.\n",
      "Please generate python code to answer the question. Only generate code for the question. no explanation and other description. use print to putput the result. the final result variable should be named as result.\n"
     ]
    }
   ],
   "source": [
    "# Open the file in read mode and read the content as a string\n",
    "with open('files/prescriptions_description.txt', 'r') as file:\n",
    "    description_text = file.read()\n",
    "\n",
    "with open('files/prompt_text.txt', 'r') as file:\n",
    "    prompt_text = file.read()\n",
    "# Print the content of the file\n",
    "print(description_text)\n",
    "print(prompt_text)"
   ]
  },
  {
   "cell_type": "code",
   "execution_count": 12,
   "metadata": {},
   "outputs": [
    {
     "name": "stdout",
     "output_type": "stream",
     "text": [
      "```python\n",
      "import pandas as pd\n",
      "\n",
      "# Load the data\n",
      "filename = 'outputs/icu_prescriptions.csv.gz'\n",
      "data = pd.read_csv(filename)\n",
      "\n",
      "# Filter data for subject_id 10001217\n",
      "patient_data = data[data['subject_id'] == 10001217]\n",
      "\n",
      "# Find the last admission ID (hadm_id) of patient 10001217 based on max stoptime\n",
      "last_admission = patient_data.groupby('hadm_id')['stoptime'].transform(max) == patient_data['stoptime']\n",
      "last_hadm_id = patient_data[last_admission]['hadm_id'].max()\n",
      "\n",
      "# Filter prescriptions for the last admission of patient 10001217\n",
      "prescriptions_last_admission = patient_data[(patient_data['subject_id'] == 10001217) & (patient_data['hadm_id'] == last_hadm_id)]['drug']\n",
      "\n",
      "# Get unique prescription names\n",
      "result = prescriptions_last_admission.unique().tolist()\n",
      "print(result)\n",
      "```\n"
     ]
    }
   ],
   "source": [
    "# extract information from discharge summary\n",
    "description_text = description_text\n",
    "prompt_text = prompt_text\n",
    "question_text = \"List the prescription names of patient 10001217 during last admission.\"\n",
    "input_text = description_text + \" \" + prompt_text + \" \" + question_text\n",
    "\n",
    "response = ollama.chat(model=\"qwen2.5:14b\", messages = [{\"role\": \"user\", \"content\": input_text,}],\n",
    "                       stream=False)\n",
    "answer_text = response[\"message\"][\"content\"]\n",
    "print(answer_text)"
   ]
  },
  {
   "cell_type": "code",
   "execution_count": 13,
   "metadata": {},
   "outputs": [
    {
     "name": "stdout",
     "output_type": "stream",
     "text": [
      "['bisacodyl', 'oxycodone (immediate release) ', 'levetiracetam', 'vial', 'pantoprazole', '0.9% sodium chloride (mini bag plus)', 'meropenem', 'bag', 'magnesium sulfate', 'ondansetron', 'docusate sodium', 'acetaminophen', 'morphine sulfate', '0.9% sodium chloride', 'hydralazine', '5% dextrose', 'vancomycin', 'sodium chloride 0.9%  flush', 'syringe (0.9% sodium chloride)', 'alteplase (catheter clearance)', 'iso-osmotic dextrose', 'senna', 'lactated ringers', 'heparin flush (10 units/ml)', 'heparin', '*nf* ertapenem sodium', 'influenza virus vaccine']\n"
     ]
    },
    {
     "name": "stderr",
     "output_type": "stream",
     "text": [
      "/tmp/ipykernel_3046481/3205811955.py:11: FutureWarning: The provided callable <built-in function max> is currently using SeriesGroupBy.max. In a future version of pandas, the provided callable will be used directly. To keep current behavior pass the string \"max\" instead.\n",
      "  last_admission = patient_data.groupby('hadm_id')['stoptime'].transform(max) == patient_data['stoptime']\n"
     ]
    }
   ],
   "source": [
    "import pandas as pd\n",
    "\n",
    "# Load the data\n",
    "filename = 'outputs/icu_prescriptions.csv.gz'\n",
    "data = pd.read_csv(filename)\n",
    "\n",
    "# Filter data for subject_id 10001217\n",
    "patient_data = data[data['subject_id'] == 10001217]\n",
    "\n",
    "# Find the last admission ID (hadm_id) of patient 10001217 based on max stoptime\n",
    "last_admission = patient_data.groupby('hadm_id')['stoptime'].transform(max) == patient_data['stoptime']\n",
    "last_hadm_id = patient_data[last_admission]['hadm_id'].max()\n",
    "\n",
    "# Filter prescriptions for the last admission of patient 10001217\n",
    "prescriptions_last_admission = patient_data[(patient_data['subject_id'] == 10001217) & (patient_data['hadm_id'] == last_hadm_id)]['drug']\n",
    "\n",
    "# Get unique prescription names\n",
    "result = prescriptions_last_admission.unique().tolist()\n",
    "print(result)\n"
   ]
  },
  {
   "cell_type": "code",
   "execution_count": 14,
   "metadata": {},
   "outputs": [
    {
     "name": "stdout",
     "output_type": "stream",
     "text": [
      "```python\n",
      "import pandas as pd\n",
      "\n",
      "# Load the data from csv.gz file\n",
      "filename = 'outputs/icu_prescriptions.csv.gz'\n",
      "data = pd.read_csv(filename)\n",
      "\n",
      "# Filter for patient with subject_id 10001217 and drug heparin\n",
      "patient_data = data[(data['subject_id'] == 10001217) & (data['drug'] == 'heparin')]\n",
      "\n",
      "# Check if the filtered dataframe is empty or not\n",
      "result = not patient_data.empty\n",
      "print(result)\n",
      "```\n"
     ]
    }
   ],
   "source": [
    "# extract information from discharge summary\n",
    "description_text = description_text\n",
    "prompt_text = prompt_text\n",
    "question_text = \"Did patient 10001217 receive heparin during their admission?\"\n",
    "input_text = description_text + \" \" + prompt_text + \" \" + question_text\n",
    "\n",
    "response = ollama.chat(model=\"qwen2.5:14b\", messages = [{\"role\": \"user\", \"content\": input_text,}],\n",
    "                       stream=False)\n",
    "answer_text = response[\"message\"][\"content\"]\n",
    "print(answer_text)"
   ]
  },
  {
   "cell_type": "code",
   "execution_count": 15,
   "metadata": {},
   "outputs": [
    {
     "name": "stdout",
     "output_type": "stream",
     "text": [
      "True\n"
     ]
    }
   ],
   "source": [
    "import pandas as pd\n",
    "\n",
    "# Load the data from csv.gz file\n",
    "filename = 'outputs/icu_prescriptions.csv.gz'\n",
    "data = pd.read_csv(filename)\n",
    "\n",
    "# Filter for patient with subject_id 10001217 and drug heparin\n",
    "patient_data = data[(data['subject_id'] == 10001217) & (data['drug'] == 'heparin')]\n",
    "\n",
    "# Check if the filtered dataframe is empty or not\n",
    "result = not patient_data.empty\n",
    "print(result)\n"
   ]
  }
 ],
 "metadata": {
  "kernelspec": {
   "display_name": "PyTorch",
   "language": "python",
   "name": "python3"
  },
  "language_info": {
   "codemirror_mode": {
    "name": "ipython",
    "version": 3
   },
   "file_extension": ".py",
   "mimetype": "text/x-python",
   "name": "python",
   "nbconvert_exporter": "python",
   "pygments_lexer": "ipython3",
   "version": "3.10.10"
  }
 },
 "nbformat": 4,
 "nbformat_minor": 2
}
