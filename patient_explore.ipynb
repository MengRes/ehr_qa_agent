{
 "cells": [
  {
   "cell_type": "code",
   "execution_count": 1,
   "metadata": {},
   "outputs": [],
   "source": [
    "import os\n",
    "import pandas as pd\n",
    "import numpy as np\n",
    "import matplotlib.pyplot as plt\n",
    "import seaborn as sns\n",
    "import datetime\n",
    "\n",
    "from tqdm import tqdm\n",
    "from utils.utils import get_readable_file_size"
   ]
  },
  {
   "cell_type": "code",
   "execution_count": 2,
   "metadata": {},
   "outputs": [],
   "source": [
    "ehr_data_dir = \"/home/mengliang/DatasetFolder/mimiciv/2.2\""
   ]
  },
  {
   "cell_type": "markdown",
   "metadata": {},
   "source": [
    "### Load patient.csv.gz file"
   ]
  },
  {
   "cell_type": "code",
   "execution_count": 3,
   "metadata": {},
   "outputs": [
    {
     "data": {
      "text/html": [
       "<div>\n",
       "<style scoped>\n",
       "    .dataframe tbody tr th:only-of-type {\n",
       "        vertical-align: middle;\n",
       "    }\n",
       "\n",
       "    .dataframe tbody tr th {\n",
       "        vertical-align: top;\n",
       "    }\n",
       "\n",
       "    .dataframe thead th {\n",
       "        text-align: right;\n",
       "    }\n",
       "</style>\n",
       "<table border=\"1\" class=\"dataframe\">\n",
       "  <thead>\n",
       "    <tr style=\"text-align: right;\">\n",
       "      <th></th>\n",
       "      <th>subject_id</th>\n",
       "      <th>gender</th>\n",
       "      <th>anchor_age</th>\n",
       "      <th>anchor_year</th>\n",
       "      <th>anchor_year_group</th>\n",
       "      <th>dod</th>\n",
       "    </tr>\n",
       "  </thead>\n",
       "  <tbody>\n",
       "    <tr>\n",
       "      <th>0</th>\n",
       "      <td>10000032</td>\n",
       "      <td>F</td>\n",
       "      <td>52</td>\n",
       "      <td>2180</td>\n",
       "      <td>2014 - 2016</td>\n",
       "      <td>2180-09-09</td>\n",
       "    </tr>\n",
       "    <tr>\n",
       "      <th>1</th>\n",
       "      <td>10000048</td>\n",
       "      <td>F</td>\n",
       "      <td>23</td>\n",
       "      <td>2126</td>\n",
       "      <td>2008 - 2010</td>\n",
       "      <td>NaN</td>\n",
       "    </tr>\n",
       "    <tr>\n",
       "      <th>2</th>\n",
       "      <td>10000068</td>\n",
       "      <td>F</td>\n",
       "      <td>19</td>\n",
       "      <td>2160</td>\n",
       "      <td>2008 - 2010</td>\n",
       "      <td>NaN</td>\n",
       "    </tr>\n",
       "    <tr>\n",
       "      <th>3</th>\n",
       "      <td>10000084</td>\n",
       "      <td>M</td>\n",
       "      <td>72</td>\n",
       "      <td>2160</td>\n",
       "      <td>2017 - 2019</td>\n",
       "      <td>2161-02-13</td>\n",
       "    </tr>\n",
       "    <tr>\n",
       "      <th>4</th>\n",
       "      <td>10000102</td>\n",
       "      <td>F</td>\n",
       "      <td>27</td>\n",
       "      <td>2136</td>\n",
       "      <td>2008 - 2010</td>\n",
       "      <td>NaN</td>\n",
       "    </tr>\n",
       "  </tbody>\n",
       "</table>\n",
       "</div>"
      ],
      "text/plain": [
       "   subject_id gender  anchor_age  anchor_year anchor_year_group         dod\n",
       "0    10000032      F          52         2180       2014 - 2016  2180-09-09\n",
       "1    10000048      F          23         2126       2008 - 2010         NaN\n",
       "2    10000068      F          19         2160       2008 - 2010         NaN\n",
       "3    10000084      M          72         2160       2017 - 2019  2161-02-13\n",
       "4    10000102      F          27         2136       2008 - 2010         NaN"
      ]
     },
     "execution_count": 3,
     "metadata": {},
     "output_type": "execute_result"
    }
   ],
   "source": [
    "ehr_patients_path = os.path.join(ehr_data_dir, \"hosp/patients.csv.gz\")\n",
    "df_ehr_patients = pd.read_csv(ehr_patients_path, index_col=False)\n",
    "df_ehr_patients.head()"
   ]
  },
  {
   "cell_type": "code",
   "execution_count": 4,
   "metadata": {},
   "outputs": [
    {
     "name": "stdout",
     "output_type": "stream",
     "text": [
      "299712\n"
     ]
    }
   ],
   "source": [
    "print(len(df_ehr_patients))"
   ]
  },
  {
   "cell_type": "code",
   "execution_count": 6,
   "metadata": {},
   "outputs": [
    {
     "data": {
      "text/html": [
       "<div>\n",
       "<style scoped>\n",
       "    .dataframe tbody tr th:only-of-type {\n",
       "        vertical-align: middle;\n",
       "    }\n",
       "\n",
       "    .dataframe tbody tr th {\n",
       "        vertical-align: top;\n",
       "    }\n",
       "\n",
       "    .dataframe thead th {\n",
       "        text-align: right;\n",
       "    }\n",
       "</style>\n",
       "<table border=\"1\" class=\"dataframe\">\n",
       "  <thead>\n",
       "    <tr style=\"text-align: right;\">\n",
       "      <th></th>\n",
       "      <th>subject_id</th>\n",
       "      <th>hadm_id</th>\n",
       "    </tr>\n",
       "  </thead>\n",
       "  <tbody>\n",
       "    <tr>\n",
       "      <th>0</th>\n",
       "      <td>10001217</td>\n",
       "      <td>27703517</td>\n",
       "    </tr>\n",
       "    <tr>\n",
       "      <th>1</th>\n",
       "      <td>10001884</td>\n",
       "      <td>26184834</td>\n",
       "    </tr>\n",
       "    <tr>\n",
       "      <th>6</th>\n",
       "      <td>10002013</td>\n",
       "      <td>23581541</td>\n",
       "    </tr>\n",
       "    <tr>\n",
       "      <th>10</th>\n",
       "      <td>10002428</td>\n",
       "      <td>28662225</td>\n",
       "    </tr>\n",
       "    <tr>\n",
       "      <th>11</th>\n",
       "      <td>10002428</td>\n",
       "      <td>23473524</td>\n",
       "    </tr>\n",
       "  </tbody>\n",
       "</table>\n",
       "</div>"
      ],
      "text/plain": [
       "    subject_id   hadm_id\n",
       "0     10001217  27703517\n",
       "1     10001884  26184834\n",
       "6     10002013  23581541\n",
       "10    10002428  28662225\n",
       "11    10002428  23473524"
      ]
     },
     "execution_count": 6,
     "metadata": {},
     "output_type": "execute_result"
    }
   ],
   "source": [
    "icu_cxr = pd.read_csv(os.path.join(\"outputs\", \"icu_cxr.csv.gz\"), compression=\"gzip\")\n",
    "selected_columns = [\"subject_id\", \"hadm_id\"]\n",
    "icu_subject_hadm_df = icu_cxr[selected_columns].copy()\n",
    "icu_subject_hadm_df.drop_duplicates(inplace=True, keep=\"first\")\n",
    "icu_subject_hadm_df.head()"
   ]
  },
  {
   "cell_type": "code",
   "execution_count": 7,
   "metadata": {},
   "outputs": [
    {
     "data": {
      "text/html": [
       "<div>\n",
       "<style scoped>\n",
       "    .dataframe tbody tr th:only-of-type {\n",
       "        vertical-align: middle;\n",
       "    }\n",
       "\n",
       "    .dataframe tbody tr th {\n",
       "        vertical-align: top;\n",
       "    }\n",
       "\n",
       "    .dataframe thead th {\n",
       "        text-align: right;\n",
       "    }\n",
       "</style>\n",
       "<table border=\"1\" class=\"dataframe\">\n",
       "  <thead>\n",
       "    <tr style=\"text-align: right;\">\n",
       "      <th></th>\n",
       "      <th>subject_id</th>\n",
       "      <th>hadm_id</th>\n",
       "      <th>gender</th>\n",
       "      <th>anchor_age</th>\n",
       "      <th>anchor_year</th>\n",
       "      <th>anchor_year_group</th>\n",
       "      <th>dod</th>\n",
       "    </tr>\n",
       "  </thead>\n",
       "  <tbody>\n",
       "    <tr>\n",
       "      <th>0</th>\n",
       "      <td>10001217</td>\n",
       "      <td>27703517</td>\n",
       "      <td>f</td>\n",
       "      <td>55</td>\n",
       "      <td>2157</td>\n",
       "      <td>2011 - 2013</td>\n",
       "      <td>NaN</td>\n",
       "    </tr>\n",
       "    <tr>\n",
       "      <th>1</th>\n",
       "      <td>10001884</td>\n",
       "      <td>26184834</td>\n",
       "      <td>f</td>\n",
       "      <td>68</td>\n",
       "      <td>2122</td>\n",
       "      <td>2008 - 2010</td>\n",
       "      <td>2131-01-20</td>\n",
       "    </tr>\n",
       "    <tr>\n",
       "      <th>2</th>\n",
       "      <td>10002013</td>\n",
       "      <td>23581541</td>\n",
       "      <td>f</td>\n",
       "      <td>53</td>\n",
       "      <td>2156</td>\n",
       "      <td>2008 - 2010</td>\n",
       "      <td>NaN</td>\n",
       "    </tr>\n",
       "    <tr>\n",
       "      <th>3</th>\n",
       "      <td>10002428</td>\n",
       "      <td>28662225</td>\n",
       "      <td>f</td>\n",
       "      <td>80</td>\n",
       "      <td>2155</td>\n",
       "      <td>2011 - 2013</td>\n",
       "      <td>NaN</td>\n",
       "    </tr>\n",
       "    <tr>\n",
       "      <th>4</th>\n",
       "      <td>10002428</td>\n",
       "      <td>23473524</td>\n",
       "      <td>f</td>\n",
       "      <td>80</td>\n",
       "      <td>2155</td>\n",
       "      <td>2011 - 2013</td>\n",
       "      <td>NaN</td>\n",
       "    </tr>\n",
       "  </tbody>\n",
       "</table>\n",
       "</div>"
      ],
      "text/plain": [
       "   subject_id   hadm_id gender  anchor_age  anchor_year anchor_year_group  \\\n",
       "0    10001217  27703517      f          55         2157       2011 - 2013   \n",
       "1    10001884  26184834      f          68         2122       2008 - 2010   \n",
       "2    10002013  23581541      f          53         2156       2008 - 2010   \n",
       "3    10002428  28662225      f          80         2155       2011 - 2013   \n",
       "4    10002428  23473524      f          80         2155       2011 - 2013   \n",
       "\n",
       "          dod  \n",
       "0         NaN  \n",
       "1  2131-01-20  \n",
       "2         NaN  \n",
       "3         NaN  \n",
       "4         NaN  "
      ]
     },
     "execution_count": 7,
     "metadata": {},
     "output_type": "execute_result"
    }
   ],
   "source": [
    "df_icu_patients = pd.merge(icu_subject_hadm_df, df_ehr_patients, on=[\"subject_id\"], \n",
    "                           how=\"inner\")\n",
    "df_icu_patients[\"gender\"] = df_icu_patients[\"gender\"].str.lower()\n",
    "df_icu_patients.head()"
   ]
  },
  {
   "cell_type": "code",
   "execution_count": 8,
   "metadata": {},
   "outputs": [
    {
     "data": {
      "text/html": [
       "<div>\n",
       "<style scoped>\n",
       "    .dataframe tbody tr th:only-of-type {\n",
       "        vertical-align: middle;\n",
       "    }\n",
       "\n",
       "    .dataframe tbody tr th {\n",
       "        vertical-align: top;\n",
       "    }\n",
       "\n",
       "    .dataframe thead th {\n",
       "        text-align: right;\n",
       "    }\n",
       "</style>\n",
       "<table border=\"1\" class=\"dataframe\">\n",
       "  <thead>\n",
       "    <tr style=\"text-align: right;\">\n",
       "      <th></th>\n",
       "      <th>subject_id</th>\n",
       "      <th>hadm_id</th>\n",
       "      <th>gender</th>\n",
       "      <th>age</th>\n",
       "      <th>year</th>\n",
       "      <th>dod</th>\n",
       "      <th>dob</th>\n",
       "    </tr>\n",
       "  </thead>\n",
       "  <tbody>\n",
       "    <tr>\n",
       "      <th>0</th>\n",
       "      <td>10001217</td>\n",
       "      <td>27703517</td>\n",
       "      <td>f</td>\n",
       "      <td>55</td>\n",
       "      <td>2157</td>\n",
       "      <td>NaN</td>\n",
       "      <td>2102</td>\n",
       "    </tr>\n",
       "    <tr>\n",
       "      <th>1</th>\n",
       "      <td>10001884</td>\n",
       "      <td>26184834</td>\n",
       "      <td>f</td>\n",
       "      <td>68</td>\n",
       "      <td>2122</td>\n",
       "      <td>2131-01-20</td>\n",
       "      <td>2054</td>\n",
       "    </tr>\n",
       "    <tr>\n",
       "      <th>2</th>\n",
       "      <td>10002013</td>\n",
       "      <td>23581541</td>\n",
       "      <td>f</td>\n",
       "      <td>53</td>\n",
       "      <td>2156</td>\n",
       "      <td>NaN</td>\n",
       "      <td>2103</td>\n",
       "    </tr>\n",
       "    <tr>\n",
       "      <th>3</th>\n",
       "      <td>10002428</td>\n",
       "      <td>28662225</td>\n",
       "      <td>f</td>\n",
       "      <td>80</td>\n",
       "      <td>2155</td>\n",
       "      <td>NaN</td>\n",
       "      <td>2075</td>\n",
       "    </tr>\n",
       "    <tr>\n",
       "      <th>4</th>\n",
       "      <td>10002428</td>\n",
       "      <td>23473524</td>\n",
       "      <td>f</td>\n",
       "      <td>80</td>\n",
       "      <td>2155</td>\n",
       "      <td>NaN</td>\n",
       "      <td>2075</td>\n",
       "    </tr>\n",
       "  </tbody>\n",
       "</table>\n",
       "</div>"
      ],
      "text/plain": [
       "   subject_id   hadm_id gender  age  year         dod   dob\n",
       "0    10001217  27703517      f   55  2157         NaN  2102\n",
       "1    10001884  26184834      f   68  2122  2131-01-20  2054\n",
       "2    10002013  23581541      f   53  2156         NaN  2103\n",
       "3    10002428  28662225      f   80  2155         NaN  2075\n",
       "4    10002428  23473524      f   80  2155         NaN  2075"
      ]
     },
     "execution_count": 8,
     "metadata": {},
     "output_type": "execute_result"
    }
   ],
   "source": [
    "selected_columns = [\"subject_id\", \"hadm_id\", \"gender\", \"anchor_age\", \"anchor_year\", \"dod\", \"dob\"]\n",
    "\n",
    "df_icu_patients['dob'] = (df_icu_patients['anchor_year'] - df_icu_patients['anchor_age']).astype(int)\n",
    "df_icu_patients = df_icu_patients[selected_columns]\n",
    "df_icu_patients.rename(columns={\"anchor_age\": \"age\", \"anchor_year\": \"year\"}, inplace=True)\n",
    "\n",
    "df_icu_patients.head()"
   ]
  },
  {
   "cell_type": "code",
   "execution_count": 9,
   "metadata": {},
   "outputs": [
    {
     "name": "stdout",
     "output_type": "stream",
     "text": [
      "16268\n",
      "13170\n"
     ]
    }
   ],
   "source": [
    "print(len(df_icu_patients))\n",
    "print(len(df_icu_patients[\"subject_id\"].unique()))"
   ]
  },
  {
   "cell_type": "code",
   "execution_count": 10,
   "metadata": {},
   "outputs": [],
   "source": [
    "df_icu_patients.to_csv(os.path.join(\"outputs\", \"icu_patients.csv.gz\"), \n",
    "                       index=False, compression=\"gzip\")"
   ]
  },
  {
   "cell_type": "code",
   "execution_count": 11,
   "metadata": {},
   "outputs": [
    {
     "name": "stdout",
     "output_type": "stream",
     "text": [
      "File size: 212.42 KB\n"
     ]
    }
   ],
   "source": [
    "readable_file_size = get_readable_file_size(os.path.join(\"outputs\", \"icu_patients.csv.gz\"))\n",
    "print(f\"File size: {readable_file_size}\")"
   ]
  },
  {
   "cell_type": "code",
   "execution_count": 12,
   "metadata": {},
   "outputs": [],
   "source": [
    "import os\n",
    "import torch\n",
    "import ollama\n",
    "\n",
    "os.environ[\"CUDA_VISIBLE_DEVICES\"] = \"5, 6\"\n",
    "device = \"cuda\" if torch.cuda.is_available() else \"cpu\""
   ]
  },
  {
   "cell_type": "code",
   "execution_count": 13,
   "metadata": {},
   "outputs": [
    {
     "name": "stdout",
     "output_type": "stream",
     "text": [
      "icu_patients.csv.gz contains information about patients admitted to the ICU. This file is located in the outputs folder. Here’s an explanation of each column in the icu_patients.csv.gz table:\n",
      "subject_id: A unique identifier for each patient across the database. Each patient only has one subject_id, even if they are admitted multiple times to the ICU.\n",
      "hadm_id: A unique identifier for each hospital admission for a patient. If a patient is admitted multiple times, each stay will have a distinct hadm_id.\n",
      "gender: The recorded gender of the patient, generally marked as 'm' for male or 'f' for female.\n",
      "age: The age of the patient at the time of admission. \n",
      "year: the year of the patient’s admission.\n",
      "dod: Date of death. This field is recorded if known and provides the date on which the patient passed away, in a de-identified format to protect privacy.\n",
      "dob: Date of birth. This field, while de-identified, gives insight into the patient’s age range and demographics without revealing the actual birthdate.\n",
      "Please generate python code to answer the question. Only generate code for the question. no explanation and other description. use print to putput the result. the final result variable should be named as result.\n"
     ]
    }
   ],
   "source": [
    "# Open the file in read mode and read the content as a string\n",
    "with open('files/patients_description.txt', 'r') as file:\n",
    "    description_text = file.read()\n",
    "\n",
    "with open('files/prompt_text.txt', 'r') as file:\n",
    "    prompt_text = file.read()\n",
    "# Print the content of the file\n",
    "print(description_text)\n",
    "print(prompt_text)"
   ]
  },
  {
   "cell_type": "code",
   "execution_count": 15,
   "metadata": {},
   "outputs": [
    {
     "name": "stdout",
     "output_type": "stream",
     "text": [
      "```python\n",
      "import pandas as pd\n",
      "\n",
      "# Load the data from the CSV file\n",
      "file_path = 'outputs/icu_patients.csv.gz'\n",
      "icu_data = pd.read_csv(file_path)\n",
      "\n",
      "# Filter patients who are older than 60 years old at admission\n",
      "older_than_60 = icu_data[icu_data['age'] > 60]\n",
      "\n",
      "# Count unique patients (using subject_id to ensure each patient is only counted once)\n",
      "result = older_than_60['subject_id'].nunique()\n",
      "\n",
      "print(result)\n",
      "```\n"
     ]
    }
   ],
   "source": [
    "# extract information from discharge summary\n",
    "description_text = description_text\n",
    "prompt_text = prompt_text\n",
    "question_text = \"How many patients are older than 60 years old in the dataset?\"\n",
    "input_text = description_text + \" \" + prompt_text + \" \" + question_text\n",
    "\n",
    "response = ollama.chat(model=\"qwen2.5:14b\", messages = [{\"role\": \"user\", \"content\": input_text,}],\n",
    "                       stream=False)\n",
    "answer_text = response[\"message\"][\"content\"]\n",
    "print(answer_text)"
   ]
  },
  {
   "cell_type": "code",
   "execution_count": 16,
   "metadata": {},
   "outputs": [
    {
     "name": "stdout",
     "output_type": "stream",
     "text": [
      "8045\n"
     ]
    }
   ],
   "source": [
    "import pandas as pd\n",
    "\n",
    "# Load the data from the CSV file\n",
    "file_path = 'outputs/icu_patients.csv.gz'\n",
    "icu_data = pd.read_csv(file_path)\n",
    "\n",
    "# Filter patients who are older than 60 years old at admission\n",
    "older_than_60 = icu_data[icu_data['age'] > 60]\n",
    "\n",
    "# Count unique patients (using subject_id to ensure each patient is only counted once)\n",
    "result = older_than_60['subject_id'].nunique()\n",
    "\n",
    "print(result)"
   ]
  },
  {
   "cell_type": "code",
   "execution_count": 17,
   "metadata": {},
   "outputs": [
    {
     "name": "stdout",
     "output_type": "stream",
     "text": [
      "8045\n"
     ]
    }
   ],
   "source": [
    "test = df_icu_patients[df_icu_patients[\"age\"]>60]\n",
    "test = test[\"subject_id\"].unique()\n",
    "print(len(test))"
   ]
  },
  {
   "cell_type": "code",
   "execution_count": 18,
   "metadata": {},
   "outputs": [
    {
     "name": "stdout",
     "output_type": "stream",
     "text": [
      "```python\n",
      "import gzip\n",
      "import pandas as pd\n",
      "\n",
      "# Load the data from the compressed CSV file\n",
      "file_path = 'outputs/icu_patients.csv.gz'\n",
      "data = pd.read_csv(gzip.open(file_path, 'rt'))\n",
      "\n",
      "# Filter the dataframe for female patients older than 60 years old at admission\n",
      "filtered_data = data[(data['gender'] == 'f') & (data['age'] > 60)]\n",
      "\n",
      "# Count the number of such patients\n",
      "result = filtered_data.shape[0]\n",
      "\n",
      "print(result)\n",
      "```\n"
     ]
    }
   ],
   "source": [
    "# extract information from discharge summary\n",
    "description_text = description_text\n",
    "prompt_text = prompt_text\n",
    "question_text = \"How many female patients are older than 60 years old when admissions?\"\n",
    "input_text = description_text + \" \" + prompt_text + \" \" + question_text\n",
    "\n",
    "response = ollama.chat(model=\"qwen2.5:14b\", messages = [{\"role\": \"user\", \"content\": input_text,}],\n",
    "                       stream=False)\n",
    "answer_text = response[\"message\"][\"content\"]\n",
    "print(answer_text)"
   ]
  },
  {
   "cell_type": "code",
   "execution_count": 19,
   "metadata": {},
   "outputs": [
    {
     "name": "stdout",
     "output_type": "stream",
     "text": [
      "Extracted Code:\n",
      " import gzip\n",
      "import pandas as pd\n",
      "\n",
      "# Load the data from the compressed CSV file\n",
      "file_path = 'outputs/icu_patients.csv.gz'\n",
      "data = pd.read_csv(gzip.open(file_path, 'rt'))\n",
      "\n",
      "# Filter the dataframe for female patients older than 60 years old at admission\n",
      "filtered_data = data[(data['gender'] == 'f') & (data['age'] > 60)]\n",
      "\n",
      "# Count the number of such patients\n",
      "result = filtered_data.shape[0]\n",
      "\n",
      "print(result)\n",
      "4664\n",
      "Output: 4664\n",
      "Code executed successfully.\n"
     ]
    }
   ],
   "source": [
    "answer_text = answer_text\n",
    "start_marker = \"```python\"\n",
    "end_marker = \"```\"\n",
    "\n",
    "start_idx = answer_text.find(start_marker) + len(start_marker)\n",
    "end_idx = answer_text.find(end_marker, start_idx)\n",
    "\n",
    "if start_idx != -1 and end_idx != -1:\n",
    "    code = answer_text[start_idx:end_idx].strip()\n",
    "    print(\"Extracted Code:\\n\", code)\n",
    "else:\n",
    "    print(\"No code block found\")\n",
    "    \n",
    "try:\n",
    "    local_vars = {}\n",
    "    # compile code into a code object\n",
    "    compiled_code = compile(code, \"<string>\", \"exec\")\n",
    "\n",
    "    # execute code object in a new namespace\n",
    "    exec(compiled_code, globals(), local_vars)\n",
    "\n",
    "    # obtain output from the code\n",
    "    output = local_vars.get(\"result\")\n",
    "    print(\"Output:\", output)\n",
    "except Exception as e:\n",
    "    print(\"Error while executing code:\", e)\n",
    "else:         \n",
    "    print(\"Code executed successfully.\")"
   ]
  }
 ],
 "metadata": {
  "kernelspec": {
   "display_name": "PyTorch",
   "language": "python",
   "name": "python3"
  },
  "language_info": {
   "codemirror_mode": {
    "name": "ipython",
    "version": 3
   },
   "file_extension": ".py",
   "mimetype": "text/x-python",
   "name": "python",
   "nbconvert_exporter": "python",
   "pygments_lexer": "ipython3",
   "version": "3.10.10"
  }
 },
 "nbformat": 4,
 "nbformat_minor": 2
}
