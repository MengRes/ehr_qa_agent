{
 "cells": [
  {
   "cell_type": "code",
   "execution_count": 2,
   "metadata": {},
   "outputs": [],
   "source": [
    "import os\n",
    "import numpy as numpy\n",
    "import pandas as pd\n",
    "import matplotlib.pyplot as plt\n",
    "import seaborn as sns\n",
    "import datetime\n",
    "\n",
    "from tqdm import tqdm\n",
    "from utils.utils import get_readable_file_size"
   ]
  },
  {
   "cell_type": "code",
   "execution_count": 3,
   "metadata": {},
   "outputs": [],
   "source": [
    "ehr_data_dir = \"/home/mengliang/DatasetFolder/mimiciv/2.2\""
   ]
  },
  {
   "cell_type": "markdown",
   "metadata": {},
   "source": [
    "### Load admissions.csv.gz file"
   ]
  },
  {
   "cell_type": "code",
   "execution_count": 3,
   "metadata": {},
   "outputs": [
    {
     "data": {
      "text/html": [
       "<div>\n",
       "<style scoped>\n",
       "    .dataframe tbody tr th:only-of-type {\n",
       "        vertical-align: middle;\n",
       "    }\n",
       "\n",
       "    .dataframe tbody tr th {\n",
       "        vertical-align: top;\n",
       "    }\n",
       "\n",
       "    .dataframe thead th {\n",
       "        text-align: right;\n",
       "    }\n",
       "</style>\n",
       "<table border=\"1\" class=\"dataframe\">\n",
       "  <thead>\n",
       "    <tr style=\"text-align: right;\">\n",
       "      <th></th>\n",
       "      <th>subject_id</th>\n",
       "      <th>hadm_id</th>\n",
       "      <th>admittime</th>\n",
       "      <th>dischtime</th>\n",
       "      <th>deathtime</th>\n",
       "      <th>admission_type</th>\n",
       "      <th>admit_provider_id</th>\n",
       "      <th>admission_location</th>\n",
       "      <th>discharge_location</th>\n",
       "      <th>insurance</th>\n",
       "      <th>language</th>\n",
       "      <th>marital_status</th>\n",
       "      <th>race</th>\n",
       "      <th>edregtime</th>\n",
       "      <th>edouttime</th>\n",
       "      <th>hospital_expire_flag</th>\n",
       "    </tr>\n",
       "  </thead>\n",
       "  <tbody>\n",
       "    <tr>\n",
       "      <th>0</th>\n",
       "      <td>10000032</td>\n",
       "      <td>22595853</td>\n",
       "      <td>2180-05-06 22:23:00</td>\n",
       "      <td>2180-05-07 17:15:00</td>\n",
       "      <td>NaN</td>\n",
       "      <td>URGENT</td>\n",
       "      <td>P874LG</td>\n",
       "      <td>TRANSFER FROM HOSPITAL</td>\n",
       "      <td>HOME</td>\n",
       "      <td>Other</td>\n",
       "      <td>ENGLISH</td>\n",
       "      <td>WIDOWED</td>\n",
       "      <td>WHITE</td>\n",
       "      <td>2180-05-06 19:17:00</td>\n",
       "      <td>2180-05-06 23:30:00</td>\n",
       "      <td>0</td>\n",
       "    </tr>\n",
       "    <tr>\n",
       "      <th>1</th>\n",
       "      <td>10000032</td>\n",
       "      <td>22841357</td>\n",
       "      <td>2180-06-26 18:27:00</td>\n",
       "      <td>2180-06-27 18:49:00</td>\n",
       "      <td>NaN</td>\n",
       "      <td>EW EMER.</td>\n",
       "      <td>P09Q6Y</td>\n",
       "      <td>EMERGENCY ROOM</td>\n",
       "      <td>HOME</td>\n",
       "      <td>Medicaid</td>\n",
       "      <td>ENGLISH</td>\n",
       "      <td>WIDOWED</td>\n",
       "      <td>WHITE</td>\n",
       "      <td>2180-06-26 15:54:00</td>\n",
       "      <td>2180-06-26 21:31:00</td>\n",
       "      <td>0</td>\n",
       "    </tr>\n",
       "    <tr>\n",
       "      <th>2</th>\n",
       "      <td>10000032</td>\n",
       "      <td>25742920</td>\n",
       "      <td>2180-08-05 23:44:00</td>\n",
       "      <td>2180-08-07 17:50:00</td>\n",
       "      <td>NaN</td>\n",
       "      <td>EW EMER.</td>\n",
       "      <td>P60CC5</td>\n",
       "      <td>EMERGENCY ROOM</td>\n",
       "      <td>HOSPICE</td>\n",
       "      <td>Medicaid</td>\n",
       "      <td>ENGLISH</td>\n",
       "      <td>WIDOWED</td>\n",
       "      <td>WHITE</td>\n",
       "      <td>2180-08-05 20:58:00</td>\n",
       "      <td>2180-08-06 01:44:00</td>\n",
       "      <td>0</td>\n",
       "    </tr>\n",
       "    <tr>\n",
       "      <th>3</th>\n",
       "      <td>10000032</td>\n",
       "      <td>29079034</td>\n",
       "      <td>2180-07-23 12:35:00</td>\n",
       "      <td>2180-07-25 17:55:00</td>\n",
       "      <td>NaN</td>\n",
       "      <td>EW EMER.</td>\n",
       "      <td>P30KEH</td>\n",
       "      <td>EMERGENCY ROOM</td>\n",
       "      <td>HOME</td>\n",
       "      <td>Medicaid</td>\n",
       "      <td>ENGLISH</td>\n",
       "      <td>WIDOWED</td>\n",
       "      <td>WHITE</td>\n",
       "      <td>2180-07-23 05:54:00</td>\n",
       "      <td>2180-07-23 14:00:00</td>\n",
       "      <td>0</td>\n",
       "    </tr>\n",
       "    <tr>\n",
       "      <th>4</th>\n",
       "      <td>10000068</td>\n",
       "      <td>25022803</td>\n",
       "      <td>2160-03-03 23:16:00</td>\n",
       "      <td>2160-03-04 06:26:00</td>\n",
       "      <td>NaN</td>\n",
       "      <td>EU OBSERVATION</td>\n",
       "      <td>P51VDL</td>\n",
       "      <td>EMERGENCY ROOM</td>\n",
       "      <td>NaN</td>\n",
       "      <td>Other</td>\n",
       "      <td>ENGLISH</td>\n",
       "      <td>SINGLE</td>\n",
       "      <td>WHITE</td>\n",
       "      <td>2160-03-03 21:55:00</td>\n",
       "      <td>2160-03-04 06:26:00</td>\n",
       "      <td>0</td>\n",
       "    </tr>\n",
       "  </tbody>\n",
       "</table>\n",
       "</div>"
      ],
      "text/plain": [
       "   subject_id   hadm_id            admittime            dischtime deathtime  \\\n",
       "0    10000032  22595853  2180-05-06 22:23:00  2180-05-07 17:15:00       NaN   \n",
       "1    10000032  22841357  2180-06-26 18:27:00  2180-06-27 18:49:00       NaN   \n",
       "2    10000032  25742920  2180-08-05 23:44:00  2180-08-07 17:50:00       NaN   \n",
       "3    10000032  29079034  2180-07-23 12:35:00  2180-07-25 17:55:00       NaN   \n",
       "4    10000068  25022803  2160-03-03 23:16:00  2160-03-04 06:26:00       NaN   \n",
       "\n",
       "   admission_type admit_provider_id      admission_location  \\\n",
       "0          URGENT            P874LG  TRANSFER FROM HOSPITAL   \n",
       "1        EW EMER.            P09Q6Y          EMERGENCY ROOM   \n",
       "2        EW EMER.            P60CC5          EMERGENCY ROOM   \n",
       "3        EW EMER.            P30KEH          EMERGENCY ROOM   \n",
       "4  EU OBSERVATION            P51VDL          EMERGENCY ROOM   \n",
       "\n",
       "  discharge_location insurance language marital_status   race  \\\n",
       "0               HOME     Other  ENGLISH        WIDOWED  WHITE   \n",
       "1               HOME  Medicaid  ENGLISH        WIDOWED  WHITE   \n",
       "2            HOSPICE  Medicaid  ENGLISH        WIDOWED  WHITE   \n",
       "3               HOME  Medicaid  ENGLISH        WIDOWED  WHITE   \n",
       "4                NaN     Other  ENGLISH         SINGLE  WHITE   \n",
       "\n",
       "             edregtime            edouttime  hospital_expire_flag  \n",
       "0  2180-05-06 19:17:00  2180-05-06 23:30:00                     0  \n",
       "1  2180-06-26 15:54:00  2180-06-26 21:31:00                     0  \n",
       "2  2180-08-05 20:58:00  2180-08-06 01:44:00                     0  \n",
       "3  2180-07-23 05:54:00  2180-07-23 14:00:00                     0  \n",
       "4  2160-03-03 21:55:00  2160-03-04 06:26:00                     0  "
      ]
     },
     "execution_count": 3,
     "metadata": {},
     "output_type": "execute_result"
    }
   ],
   "source": [
    "ehr_admissions_path = os.path.join(ehr_data_dir, \"hosp/admissions.csv.gz\")\n",
    "df_ehr_admissions = pd.read_csv(ehr_admissions_path, index_col=False)\n",
    "df_ehr_admissions.head()"
   ]
  },
  {
   "cell_type": "code",
   "execution_count": 4,
   "metadata": {},
   "outputs": [
    {
     "name": "stdout",
     "output_type": "stream",
     "text": [
      "431231\n"
     ]
    }
   ],
   "source": [
    "print(len(df_ehr_admissions))"
   ]
  },
  {
   "cell_type": "code",
   "execution_count": 5,
   "metadata": {},
   "outputs": [
    {
     "data": {
      "text/html": [
       "<div>\n",
       "<style scoped>\n",
       "    .dataframe tbody tr th:only-of-type {\n",
       "        vertical-align: middle;\n",
       "    }\n",
       "\n",
       "    .dataframe tbody tr th {\n",
       "        vertical-align: top;\n",
       "    }\n",
       "\n",
       "    .dataframe thead th {\n",
       "        text-align: right;\n",
       "    }\n",
       "</style>\n",
       "<table border=\"1\" class=\"dataframe\">\n",
       "  <thead>\n",
       "    <tr style=\"text-align: right;\">\n",
       "      <th></th>\n",
       "      <th>subject_id</th>\n",
       "      <th>hadm_id</th>\n",
       "    </tr>\n",
       "  </thead>\n",
       "  <tbody>\n",
       "    <tr>\n",
       "      <th>0</th>\n",
       "      <td>10000032</td>\n",
       "      <td>29079034</td>\n",
       "    </tr>\n",
       "    <tr>\n",
       "      <th>1</th>\n",
       "      <td>10000980</td>\n",
       "      <td>26913865</td>\n",
       "    </tr>\n",
       "    <tr>\n",
       "      <th>2</th>\n",
       "      <td>10001217</td>\n",
       "      <td>24597018</td>\n",
       "    </tr>\n",
       "    <tr>\n",
       "      <th>3</th>\n",
       "      <td>10001217</td>\n",
       "      <td>27703517</td>\n",
       "    </tr>\n",
       "    <tr>\n",
       "      <th>4</th>\n",
       "      <td>10001725</td>\n",
       "      <td>25563031</td>\n",
       "    </tr>\n",
       "  </tbody>\n",
       "</table>\n",
       "</div>"
      ],
      "text/plain": [
       "   subject_id   hadm_id\n",
       "0    10000032  29079034\n",
       "1    10000980  26913865\n",
       "2    10001217  24597018\n",
       "3    10001217  27703517\n",
       "4    10001725  25563031"
      ]
     },
     "execution_count": 5,
     "metadata": {},
     "output_type": "execute_result"
    }
   ],
   "source": [
    "icu_subject_hadm_df = pd.read_csv(os.path.join(\"outputs\", \"icu_subject_hadm.csv.gz\"), compression=\"gzip\")\n",
    "icu_subject_hadm_df.head()"
   ]
  },
  {
   "cell_type": "code",
   "execution_count": 6,
   "metadata": {},
   "outputs": [
    {
     "data": {
      "text/html": [
       "<div>\n",
       "<style scoped>\n",
       "    .dataframe tbody tr th:only-of-type {\n",
       "        vertical-align: middle;\n",
       "    }\n",
       "\n",
       "    .dataframe tbody tr th {\n",
       "        vertical-align: top;\n",
       "    }\n",
       "\n",
       "    .dataframe thead th {\n",
       "        text-align: right;\n",
       "    }\n",
       "</style>\n",
       "<table border=\"1\" class=\"dataframe\">\n",
       "  <thead>\n",
       "    <tr style=\"text-align: right;\">\n",
       "      <th></th>\n",
       "      <th>subject_id</th>\n",
       "      <th>hadm_id</th>\n",
       "      <th>admittime</th>\n",
       "      <th>dischtime</th>\n",
       "      <th>deathtime</th>\n",
       "      <th>admission_type</th>\n",
       "      <th>admit_provider_id</th>\n",
       "      <th>admission_location</th>\n",
       "      <th>discharge_location</th>\n",
       "      <th>insurance</th>\n",
       "      <th>language</th>\n",
       "      <th>marital_status</th>\n",
       "      <th>race</th>\n",
       "      <th>edregtime</th>\n",
       "      <th>edouttime</th>\n",
       "      <th>hospital_expire_flag</th>\n",
       "    </tr>\n",
       "  </thead>\n",
       "  <tbody>\n",
       "    <tr>\n",
       "      <th>0</th>\n",
       "      <td>10000032</td>\n",
       "      <td>29079034</td>\n",
       "      <td>2180-07-23 12:35:00</td>\n",
       "      <td>2180-07-25 17:55:00</td>\n",
       "      <td>NaN</td>\n",
       "      <td>EW EMER.</td>\n",
       "      <td>P30KEH</td>\n",
       "      <td>EMERGENCY ROOM</td>\n",
       "      <td>HOME</td>\n",
       "      <td>Medicaid</td>\n",
       "      <td>ENGLISH</td>\n",
       "      <td>WIDOWED</td>\n",
       "      <td>WHITE</td>\n",
       "      <td>2180-07-23 05:54:00</td>\n",
       "      <td>2180-07-23 14:00:00</td>\n",
       "      <td>0</td>\n",
       "    </tr>\n",
       "    <tr>\n",
       "      <th>1</th>\n",
       "      <td>10000980</td>\n",
       "      <td>26913865</td>\n",
       "      <td>2189-06-27 07:38:00</td>\n",
       "      <td>2189-07-03 03:00:00</td>\n",
       "      <td>NaN</td>\n",
       "      <td>EW EMER.</td>\n",
       "      <td>P30KEH</td>\n",
       "      <td>EMERGENCY ROOM</td>\n",
       "      <td>HOME HEALTH CARE</td>\n",
       "      <td>Medicare</td>\n",
       "      <td>ENGLISH</td>\n",
       "      <td>MARRIED</td>\n",
       "      <td>BLACK/AFRICAN AMERICAN</td>\n",
       "      <td>2189-06-27 06:25:00</td>\n",
       "      <td>2189-06-27 08:42:00</td>\n",
       "      <td>0</td>\n",
       "    </tr>\n",
       "    <tr>\n",
       "      <th>2</th>\n",
       "      <td>10001217</td>\n",
       "      <td>24597018</td>\n",
       "      <td>2157-11-18 22:56:00</td>\n",
       "      <td>2157-11-25 18:00:00</td>\n",
       "      <td>NaN</td>\n",
       "      <td>EW EMER.</td>\n",
       "      <td>P4645A</td>\n",
       "      <td>EMERGENCY ROOM</td>\n",
       "      <td>HOME HEALTH CARE</td>\n",
       "      <td>Other</td>\n",
       "      <td>?</td>\n",
       "      <td>MARRIED</td>\n",
       "      <td>WHITE</td>\n",
       "      <td>2157-11-18 17:38:00</td>\n",
       "      <td>2157-11-19 01:24:00</td>\n",
       "      <td>0</td>\n",
       "    </tr>\n",
       "    <tr>\n",
       "      <th>3</th>\n",
       "      <td>10001217</td>\n",
       "      <td>27703517</td>\n",
       "      <td>2157-12-18 16:58:00</td>\n",
       "      <td>2157-12-24 14:55:00</td>\n",
       "      <td>NaN</td>\n",
       "      <td>DIRECT EMER.</td>\n",
       "      <td>P99698</td>\n",
       "      <td>PHYSICIAN REFERRAL</td>\n",
       "      <td>HOME HEALTH CARE</td>\n",
       "      <td>Other</td>\n",
       "      <td>?</td>\n",
       "      <td>MARRIED</td>\n",
       "      <td>WHITE</td>\n",
       "      <td>NaN</td>\n",
       "      <td>NaN</td>\n",
       "      <td>0</td>\n",
       "    </tr>\n",
       "    <tr>\n",
       "      <th>4</th>\n",
       "      <td>10001725</td>\n",
       "      <td>25563031</td>\n",
       "      <td>2110-04-11 15:08:00</td>\n",
       "      <td>2110-04-14 15:00:00</td>\n",
       "      <td>NaN</td>\n",
       "      <td>EW EMER.</td>\n",
       "      <td>P35SU0</td>\n",
       "      <td>PACU</td>\n",
       "      <td>HOME</td>\n",
       "      <td>Other</td>\n",
       "      <td>ENGLISH</td>\n",
       "      <td>MARRIED</td>\n",
       "      <td>WHITE</td>\n",
       "      <td>NaN</td>\n",
       "      <td>NaN</td>\n",
       "      <td>0</td>\n",
       "    </tr>\n",
       "  </tbody>\n",
       "</table>\n",
       "</div>"
      ],
      "text/plain": [
       "   subject_id   hadm_id            admittime            dischtime deathtime  \\\n",
       "0    10000032  29079034  2180-07-23 12:35:00  2180-07-25 17:55:00       NaN   \n",
       "1    10000980  26913865  2189-06-27 07:38:00  2189-07-03 03:00:00       NaN   \n",
       "2    10001217  24597018  2157-11-18 22:56:00  2157-11-25 18:00:00       NaN   \n",
       "3    10001217  27703517  2157-12-18 16:58:00  2157-12-24 14:55:00       NaN   \n",
       "4    10001725  25563031  2110-04-11 15:08:00  2110-04-14 15:00:00       NaN   \n",
       "\n",
       "  admission_type admit_provider_id  admission_location discharge_location  \\\n",
       "0       EW EMER.            P30KEH      EMERGENCY ROOM               HOME   \n",
       "1       EW EMER.            P30KEH      EMERGENCY ROOM   HOME HEALTH CARE   \n",
       "2       EW EMER.            P4645A      EMERGENCY ROOM   HOME HEALTH CARE   \n",
       "3   DIRECT EMER.            P99698  PHYSICIAN REFERRAL   HOME HEALTH CARE   \n",
       "4       EW EMER.            P35SU0                PACU               HOME   \n",
       "\n",
       "  insurance language marital_status                    race  \\\n",
       "0  Medicaid  ENGLISH        WIDOWED                   WHITE   \n",
       "1  Medicare  ENGLISH        MARRIED  BLACK/AFRICAN AMERICAN   \n",
       "2     Other        ?        MARRIED                   WHITE   \n",
       "3     Other        ?        MARRIED                   WHITE   \n",
       "4     Other  ENGLISH        MARRIED                   WHITE   \n",
       "\n",
       "             edregtime            edouttime  hospital_expire_flag  \n",
       "0  2180-07-23 05:54:00  2180-07-23 14:00:00                     0  \n",
       "1  2189-06-27 06:25:00  2189-06-27 08:42:00                     0  \n",
       "2  2157-11-18 17:38:00  2157-11-19 01:24:00                     0  \n",
       "3                  NaN                  NaN                     0  \n",
       "4                  NaN                  NaN                     0  "
      ]
     },
     "execution_count": 6,
     "metadata": {},
     "output_type": "execute_result"
    }
   ],
   "source": [
    "df_icu_admissions = pd.merge(icu_subject_hadm_df, df_ehr_admissions, on=[\"subject_id\", \"hadm_id\"], \n",
    "                           how=\"inner\")\n",
    "df_icu_admissions.head()"
   ]
  },
  {
   "cell_type": "code",
   "execution_count": 7,
   "metadata": {},
   "outputs": [
    {
     "data": {
      "text/html": [
       "<div>\n",
       "<style scoped>\n",
       "    .dataframe tbody tr th:only-of-type {\n",
       "        vertical-align: middle;\n",
       "    }\n",
       "\n",
       "    .dataframe tbody tr th {\n",
       "        vertical-align: top;\n",
       "    }\n",
       "\n",
       "    .dataframe thead th {\n",
       "        text-align: right;\n",
       "    }\n",
       "</style>\n",
       "<table border=\"1\" class=\"dataframe\">\n",
       "  <thead>\n",
       "    <tr style=\"text-align: right;\">\n",
       "      <th></th>\n",
       "      <th>subject_id</th>\n",
       "      <th>hadm_id</th>\n",
       "      <th>admittime</th>\n",
       "      <th>dischtime</th>\n",
       "      <th>admission_type</th>\n",
       "      <th>admission_location</th>\n",
       "      <th>discharge_location</th>\n",
       "      <th>insurance</th>\n",
       "      <th>marital_status</th>\n",
       "      <th>race</th>\n",
       "    </tr>\n",
       "  </thead>\n",
       "  <tbody>\n",
       "    <tr>\n",
       "      <th>0</th>\n",
       "      <td>10000032</td>\n",
       "      <td>29079034</td>\n",
       "      <td>2180-07-23 12:35:00</td>\n",
       "      <td>2180-07-25 17:55:00</td>\n",
       "      <td>ew emer.</td>\n",
       "      <td>emergency room</td>\n",
       "      <td>home</td>\n",
       "      <td>medicaid</td>\n",
       "      <td>widowed</td>\n",
       "      <td>white</td>\n",
       "    </tr>\n",
       "    <tr>\n",
       "      <th>1</th>\n",
       "      <td>10000980</td>\n",
       "      <td>26913865</td>\n",
       "      <td>2189-06-27 07:38:00</td>\n",
       "      <td>2189-07-03 03:00:00</td>\n",
       "      <td>ew emer.</td>\n",
       "      <td>emergency room</td>\n",
       "      <td>home health care</td>\n",
       "      <td>medicare</td>\n",
       "      <td>married</td>\n",
       "      <td>black/african american</td>\n",
       "    </tr>\n",
       "    <tr>\n",
       "      <th>2</th>\n",
       "      <td>10001217</td>\n",
       "      <td>24597018</td>\n",
       "      <td>2157-11-18 22:56:00</td>\n",
       "      <td>2157-11-25 18:00:00</td>\n",
       "      <td>ew emer.</td>\n",
       "      <td>emergency room</td>\n",
       "      <td>home health care</td>\n",
       "      <td>other</td>\n",
       "      <td>married</td>\n",
       "      <td>white</td>\n",
       "    </tr>\n",
       "    <tr>\n",
       "      <th>3</th>\n",
       "      <td>10001217</td>\n",
       "      <td>27703517</td>\n",
       "      <td>2157-12-18 16:58:00</td>\n",
       "      <td>2157-12-24 14:55:00</td>\n",
       "      <td>direct emer.</td>\n",
       "      <td>physician referral</td>\n",
       "      <td>home health care</td>\n",
       "      <td>other</td>\n",
       "      <td>married</td>\n",
       "      <td>white</td>\n",
       "    </tr>\n",
       "    <tr>\n",
       "      <th>4</th>\n",
       "      <td>10001725</td>\n",
       "      <td>25563031</td>\n",
       "      <td>2110-04-11 15:08:00</td>\n",
       "      <td>2110-04-14 15:00:00</td>\n",
       "      <td>ew emer.</td>\n",
       "      <td>pacu</td>\n",
       "      <td>home</td>\n",
       "      <td>other</td>\n",
       "      <td>married</td>\n",
       "      <td>white</td>\n",
       "    </tr>\n",
       "  </tbody>\n",
       "</table>\n",
       "</div>"
      ],
      "text/plain": [
       "   subject_id   hadm_id            admittime            dischtime  \\\n",
       "0    10000032  29079034  2180-07-23 12:35:00  2180-07-25 17:55:00   \n",
       "1    10000980  26913865  2189-06-27 07:38:00  2189-07-03 03:00:00   \n",
       "2    10001217  24597018  2157-11-18 22:56:00  2157-11-25 18:00:00   \n",
       "3    10001217  27703517  2157-12-18 16:58:00  2157-12-24 14:55:00   \n",
       "4    10001725  25563031  2110-04-11 15:08:00  2110-04-14 15:00:00   \n",
       "\n",
       "  admission_type  admission_location discharge_location insurance  \\\n",
       "0       ew emer.      emergency room               home  medicaid   \n",
       "1       ew emer.      emergency room   home health care  medicare   \n",
       "2       ew emer.      emergency room   home health care     other   \n",
       "3   direct emer.  physician referral   home health care     other   \n",
       "4       ew emer.                pacu               home     other   \n",
       "\n",
       "  marital_status                    race  \n",
       "0        widowed                   white  \n",
       "1        married  black/african american  \n",
       "2        married                   white  \n",
       "3        married                   white  \n",
       "4        married                   white  "
      ]
     },
     "execution_count": 7,
     "metadata": {},
     "output_type": "execute_result"
    }
   ],
   "source": [
    "selected_columns = [\"subject_id\", \"hadm_id\", \"admittime\", \"dischtime\", \"admission_type\", \"admission_location\", \n",
    "                    \"discharge_location\", \"insurance\", \"marital_status\", \"race\"]\n",
    "\n",
    "df_icu_admissions = df_icu_admissions[selected_columns]\n",
    "df_icu_admissions [\"admission_type\"] = df_icu_admissions [\"admission_type\"].str.lower()\n",
    "df_icu_admissions [\"admission_location\"] = df_icu_admissions [\"admission_location\"].str.lower()\n",
    "df_icu_admissions [\"discharge_location\"] = df_icu_admissions [\"discharge_location\"].str.lower() \n",
    "df_icu_admissions [\"insurance\"] = df_icu_admissions [\"insurance\"].str.lower() \n",
    "df_icu_admissions [\"marital_status\"] = df_icu_admissions [\"marital_status\"].str.lower() \n",
    "df_icu_admissions [\"race\"] = df_icu_admissions [\"race\"].str.lower() \n",
    "df_icu_admissions.head()"
   ]
  },
  {
   "cell_type": "code",
   "execution_count": 8,
   "metadata": {},
   "outputs": [
    {
     "name": "stdout",
     "output_type": "stream",
     "text": [
      "73181\n",
      "50920\n",
      "Index(['subject_id', 'hadm_id', 'admittime', 'dischtime', 'admission_type',\n",
      "       'admission_location', 'discharge_location', 'insurance',\n",
      "       'marital_status', 'race'],\n",
      "      dtype='object')\n"
     ]
    }
   ],
   "source": [
    "print(len(df_icu_admissions))\n",
    "print(len(df_icu_admissions[\"subject_id\"].unique()))\n",
    "\n",
    "print(df_icu_admissions.columns)"
   ]
  },
  {
   "cell_type": "code",
   "execution_count": 9,
   "metadata": {},
   "outputs": [
    {
     "name": "stdout",
     "output_type": "stream",
     "text": [
      "['widowed' 'married' 'single' nan 'divorced']\n",
      "['white' 'black/african american' 'other' 'unknown' 'unable to obtain'\n",
      " 'white - russian' 'black/cape verdean' 'portuguese'\n",
      " 'hispanic/latino - salvadoran' 'hispanic/latino - puerto rican'\n",
      " 'asian - south east asian' 'white - brazilian' 'hispanic or latino'\n",
      " 'white - other european' 'black/african' 'patient declined to answer'\n",
      " 'asian' 'black/caribbean island' 'hispanic/latino - cuban'\n",
      " 'hispanic/latino - dominican' 'asian - korean' 'asian - chinese'\n",
      " 'asian - asian indian' 'white - eastern european'\n",
      " 'hispanic/latino - guatemalan' 'hispanic/latino - honduran'\n",
      " 'hispanic/latino - columbian' 'native hawaiian or other pacific islander'\n",
      " 'american indian/alaska native' 'hispanic/latino - central american'\n",
      " 'hispanic/latino - mexican' 'south american' 'multiple race/ethnicity']\n"
     ]
    }
   ],
   "source": [
    "#print(df_icu_admissions[\"language\"].unique())\n",
    "print(df_icu_admissions[\"marital_status\"].unique())\n",
    "print(df_icu_admissions[\"race\"].unique())"
   ]
  },
  {
   "cell_type": "code",
   "execution_count": 10,
   "metadata": {},
   "outputs": [],
   "source": [
    "df_icu_admissions.to_csv(os.path.join(\"outputs\", \"icu_admissions.csv.gz\"), \n",
    "                         index=False, compression=\"gzip\")"
   ]
  },
  {
   "cell_type": "code",
   "execution_count": 11,
   "metadata": {},
   "outputs": [
    {
     "name": "stdout",
     "output_type": "stream",
     "text": [
      "File size: 1.62 MB\n"
     ]
    }
   ],
   "source": [
    "readable_file_size = get_readable_file_size(os.path.join(\"outputs\", \"icu_admissions.csv.gz\"))\n",
    "print(f\"File size: {readable_file_size}\")"
   ]
  },
  {
   "cell_type": "markdown",
   "metadata": {},
   "source": [
    "## QA generation"
   ]
  },
  {
   "cell_type": "code",
   "execution_count": 4,
   "metadata": {},
   "outputs": [],
   "source": [
    "import torch\n",
    "import ollama\n",
    "\n",
    "os.environ[\"CUDA_VISIBLE_DEVICES\"] = \"5, 6\"\n",
    "device = \"cuda\" if torch.cuda.is_available() else \"cpu\""
   ]
  },
  {
   "cell_type": "code",
   "execution_count": 5,
   "metadata": {},
   "outputs": [
    {
     "name": "stdout",
     "output_type": "stream",
     "text": [
      "This is the description to the icu_admissions.csv.gz file. This file is located in outputs/icu_admissions.csv.gz.\n",
      "subject_id: A unique identifier for each patient in the dataset. Each patient only has one subject_id.\n",
      "hadm_id: Hospital admission ID, a unique identifier for each hospital admission. This ID enables differentiation between multiple admissions for the same patient.\n",
      "admittime: Timestamp for the exact date and time when the patient was admitted to the hospital. This helps establish the start of a hospital stay.\n",
      "dischtime: Timestamp for the date and time when the patient was discharged from the hospital, marking the end of a specific admission period.\n",
      "admission_type: Categorical field indicating the type of admission, such as \"emergency,\" \"urgent,\" or \"elective.\" This provides context on the reason or urgency of admission.\n",
      "admission_location: Describes the location from which the patient was admitted, such as \"clinic referral,\" \"emergency department,\" or \"transfer from another facility.\"\n",
      "discharge_location: Indicates the location to which the patient was discharged, such as \"home,\" \"skilled nursing facility,\" or \"hospice care,\" which informs about the level of care needed after discharge.\n",
      "insurance: Specifies the type of insurance coverage the patient used for the hospital stay, such as \"medicare,\" \"medicaid,\" \"private,\" or \"self-pay.\"\n",
      "marital_status: Categorical variable indicating the patient's marital status, such as \"single,\" \"married,\" \"divorced,\" or \"widowed.\". All characters in this column are in lowercase.\n",
      "race: Categorical field specifying the patient's racial or ethnic background, often used in healthcare research to understand health disparities and outcomes across different populations. All characters in this column are in lowercase.\n"
     ]
    }
   ],
   "source": [
    "# Open the file in read mode and read the content as a string\n",
    "with open('files/admissions_description.txt', 'r') as file:\n",
    "    file_content = file.read()\n",
    "\n",
    "# Print the content of the file\n",
    "print(file_content)"
   ]
  },
  {
   "cell_type": "code",
   "execution_count": 6,
   "metadata": {},
   "outputs": [
    {
     "name": "stdout",
     "output_type": "stream",
     "text": [
      "```python\n",
      "import pandas as pd\n",
      "\n",
      "# Load the dataset\n",
      "df = pd.read_csv('outputs/icu_admissions.csv.gz')\n",
      "\n",
      "# Filter for patients who are white\n",
      "white_patients = df[df['race'] == 'white']\n",
      "\n",
      "# Get unique subject_ids to count distinct patients\n",
      "unique_subject_ids = white_patients['subject_id'].nunique()\n",
      "\n",
      "# Output the result\n",
      "result = unique_subject_ids\n",
      "print(result)\n",
      "```\n"
     ]
    }
   ],
   "source": [
    "# extract information from discharge summary\n",
    "description_text = file_content\n",
    "prompt_text = \"Please generate python code to answer the question. Only generate code for the question. no explanation and other description. use print to putput the result. the final result variable should be named as result.\"\n",
    "question_text = \"How many patients are white?\"\n",
    "input_text = description_text + \" \" + prompt_text + \" \" + question_text\n",
    "\n",
    "response = ollama.chat(model=\"qwen2.5:14b\", messages = [{\"role\": \"user\", \"content\": input_text,}], stream=False)\n",
    "#response = ollama.chat(model=\"llama3.1:8b\", messages = [{\"role\": \"user\", \"content\": input_text,}], stream=False)\n",
    "answer_text = response[\"message\"][\"content\"]\n",
    "print(answer_text)"
   ]
  },
  {
   "cell_type": "code",
   "execution_count": 7,
   "metadata": {},
   "outputs": [
    {
     "name": "stdout",
     "output_type": "stream",
     "text": [
      "32893\n"
     ]
    }
   ],
   "source": [
    "import pandas as pd\n",
    "\n",
    "# Load the dataset\n",
    "df = pd.read_csv('outputs/icu_admissions.csv.gz')\n",
    "\n",
    "# Filter for patients who are white\n",
    "white_patients = df[df['race'] == 'white']\n",
    "\n",
    "# Get unique subject_ids to count distinct patients\n",
    "result = len(white_patients['subject_id'].unique())\n",
    "\n",
    "print(result)"
   ]
  },
  {
   "cell_type": "code",
   "execution_count": 11,
   "metadata": {},
   "outputs": [
    {
     "name": "stdout",
     "output_type": "stream",
     "text": [
      "```python\n",
      "import pandas as pd\n",
      "\n",
      "# Load the dataset\n",
      "df = pd.read_csv('outputs/icu_admissions.csv.gz')\n",
      "\n",
      "# Filter for patient with subject_id 10001725\n",
      "patient_discharge_location = df[df['subject_id'] == 10001725]['discharge_location']\n",
      "\n",
      "# Get the unique discharge location if there are multiple entries, or just get the first one.\n",
      "result = patient_discharge_location.unique()[0] if len(patient_discharge_location.unique()) > 0 else None\n",
      "\n",
      "print(result)\n",
      "```\n"
     ]
    }
   ],
   "source": [
    "description_text = file_content\n",
    "prompt_text = \"Please generate python code to answer the question. Only generate code for the question. no explanation and other description. use print to putput the result. the final result variable should be named as result.\"\n",
    "question_text = \"what is the discharge location of patient 10001725?\"\n",
    "input_text = description_text + \" \" + prompt_text + \" \" + question_text\n",
    "\n",
    "response = ollama.chat(model=\"qwen2.5:14b\", messages = [{\"role\": \"user\", \"content\": input_text,}], stream=False)\n",
    "# response = ollama.chat(model=\"llama3.1:8b\", messages = [{\"role\": \"user\", \"content\": input_text,}], stream=False)\n",
    "answer_text = response[\"message\"][\"content\"]\n",
    "print(answer_text)"
   ]
  },
  {
   "cell_type": "code",
   "execution_count": 9,
   "metadata": {},
   "outputs": [
    {
     "name": "stdout",
     "output_type": "stream",
     "text": [
      "home\n"
     ]
    }
   ],
   "source": [
    "import pandas as pd\n",
    "\n",
    "# Load the dataset\n",
    "df = pd.read_csv('outputs/icu_admissions.csv.gz')\n",
    "\n",
    "# Filter for the specific patient\n",
    "patient_discharge_location = df[df['subject_id'] == 10001725]['discharge_location']\n",
    "\n",
    "# Output the result\n",
    "result = patient_discharge_location.values[0] if not patient_discharge_location.empty else None\n",
    "print(result)"
   ]
  },
  {
   "cell_type": "code",
   "execution_count": 14,
   "metadata": {},
   "outputs": [
    {
     "name": "stdout",
     "output_type": "stream",
     "text": [
      "```python\n",
      "import pandas as pd\n",
      "\n",
      "# Load the dataset\n",
      "filename = 'outputs/icu_admissions.csv.gz'\n",
      "icu_data = pd.read_csv(filename)\n",
      "\n",
      "# Filter admissions that occurred before the year 2160\n",
      "icu_data['admittime'] = pd.to_datetime(icu_data['admittime'])\n",
      "before_2160 = icu_data[icu_data['admittime'].dt.year < 2160]\n",
      "\n",
      "# Count unique patients (using subject_id to ensure uniqueness)\n",
      "result = before_2160['subject_id'].nunique()\n",
      "print(result)\n",
      "```\n"
     ]
    }
   ],
   "source": [
    "description_text = file_content\n",
    "prompt_text = \"Please generate python code to answer the question. Only generate code for the question. no explanation and other description. use print to putput the result. the final result variable should be named as result.\"\n",
    "question_text = \"Suppose now is 2160 year, how many patients have been admitted to the hospital before this year?\"\n",
    "input_text = description_text + \" \" + prompt_text + \" \" + question_text\n",
    "\n",
    "response = ollama.chat(model=\"qwen2.5:14b\", messages = [{\"role\": \"user\", \"content\": input_text,}], stream=False)\n",
    "# response = ollama.chat(model=\"llama3.1:8b\", messages = [{\"role\": \"user\", \"content\": input_text,}], stream=False)\n",
    "answer_text = response[\"message\"][\"content\"]\n",
    "print(answer_text)"
   ]
  },
  {
   "cell_type": "code",
   "execution_count": 15,
   "metadata": {},
   "outputs": [
    {
     "name": "stdout",
     "output_type": "stream",
     "text": [
      "30058\n"
     ]
    }
   ],
   "source": [
    "import pandas as pd\n",
    "\n",
    "# Load the dataset\n",
    "filename = 'outputs/icu_admissions.csv.gz'\n",
    "icu_data = pd.read_csv(filename)\n",
    "\n",
    "# Filter admissions that occurred before the year 2160\n",
    "icu_data['admittime'] = pd.to_datetime(icu_data['admittime'])\n",
    "before_2160 = icu_data[icu_data['admittime'].dt.year < 2160]\n",
    "\n",
    "# Count unique patients (using subject_id to ensure uniqueness)\n",
    "result = before_2160['subject_id'].nunique()\n",
    "print(result)"
   ]
  }
 ],
 "metadata": {
  "kernelspec": {
   "display_name": "PyTorch",
   "language": "python",
   "name": "python3"
  },
  "language_info": {
   "codemirror_mode": {
    "name": "ipython",
    "version": 3
   },
   "file_extension": ".py",
   "mimetype": "text/x-python",
   "name": "python",
   "nbconvert_exporter": "python",
   "pygments_lexer": "ipython3",
   "version": "3.10.10"
  }
 },
 "nbformat": 4,
 "nbformat_minor": 2
}
