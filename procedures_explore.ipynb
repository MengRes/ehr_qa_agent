{
 "cells": [
  {
   "cell_type": "code",
   "execution_count": 1,
   "metadata": {},
   "outputs": [],
   "source": [
    "import os\n",
    "import pandas as pd\n",
    "import numpy as np\n",
    "import matplotlib.pyplot as plt\n",
    "import seaborn as sns\n",
    "import datetime\n",
    "\n",
    "from tqdm import tqdm\n",
    "from utils.utils import get_readable_file_size"
   ]
  },
  {
   "cell_type": "code",
   "execution_count": 2,
   "metadata": {},
   "outputs": [],
   "source": [
    "ehr_data_dir = \"/home/mengliang/DatasetFolder/mimiciv/2.2\""
   ]
  },
  {
   "cell_type": "code",
   "execution_count": 3,
   "metadata": {},
   "outputs": [
    {
     "data": {
      "text/html": [
       "<div>\n",
       "<style scoped>\n",
       "    .dataframe tbody tr th:only-of-type {\n",
       "        vertical-align: middle;\n",
       "    }\n",
       "\n",
       "    .dataframe tbody tr th {\n",
       "        vertical-align: top;\n",
       "    }\n",
       "\n",
       "    .dataframe thead th {\n",
       "        text-align: right;\n",
       "    }\n",
       "</style>\n",
       "<table border=\"1\" class=\"dataframe\">\n",
       "  <thead>\n",
       "    <tr style=\"text-align: right;\">\n",
       "      <th></th>\n",
       "      <th>subject_id</th>\n",
       "      <th>hadm_id</th>\n",
       "      <th>seq_num</th>\n",
       "      <th>chartdate</th>\n",
       "      <th>icd_code</th>\n",
       "      <th>icd_version</th>\n",
       "    </tr>\n",
       "  </thead>\n",
       "  <tbody>\n",
       "    <tr>\n",
       "      <th>0</th>\n",
       "      <td>10000032</td>\n",
       "      <td>22595853</td>\n",
       "      <td>1</td>\n",
       "      <td>2180-05-07</td>\n",
       "      <td>5491</td>\n",
       "      <td>9</td>\n",
       "    </tr>\n",
       "    <tr>\n",
       "      <th>1</th>\n",
       "      <td>10000032</td>\n",
       "      <td>22841357</td>\n",
       "      <td>1</td>\n",
       "      <td>2180-06-27</td>\n",
       "      <td>5491</td>\n",
       "      <td>9</td>\n",
       "    </tr>\n",
       "    <tr>\n",
       "      <th>2</th>\n",
       "      <td>10000032</td>\n",
       "      <td>25742920</td>\n",
       "      <td>1</td>\n",
       "      <td>2180-08-06</td>\n",
       "      <td>5491</td>\n",
       "      <td>9</td>\n",
       "    </tr>\n",
       "    <tr>\n",
       "      <th>3</th>\n",
       "      <td>10000068</td>\n",
       "      <td>25022803</td>\n",
       "      <td>1</td>\n",
       "      <td>2160-03-03</td>\n",
       "      <td>8938</td>\n",
       "      <td>9</td>\n",
       "    </tr>\n",
       "    <tr>\n",
       "      <th>4</th>\n",
       "      <td>10000117</td>\n",
       "      <td>27988844</td>\n",
       "      <td>1</td>\n",
       "      <td>2183-09-19</td>\n",
       "      <td>0QS734Z</td>\n",
       "      <td>10</td>\n",
       "    </tr>\n",
       "  </tbody>\n",
       "</table>\n",
       "</div>"
      ],
      "text/plain": [
       "   subject_id   hadm_id  seq_num   chartdate icd_code  icd_version\n",
       "0    10000032  22595853        1  2180-05-07     5491            9\n",
       "1    10000032  22841357        1  2180-06-27     5491            9\n",
       "2    10000032  25742920        1  2180-08-06     5491            9\n",
       "3    10000068  25022803        1  2160-03-03     8938            9\n",
       "4    10000117  27988844        1  2183-09-19  0QS734Z           10"
      ]
     },
     "execution_count": 3,
     "metadata": {},
     "output_type": "execute_result"
    }
   ],
   "source": [
    "ehr_procedures_path = os.path.join(ehr_data_dir, \"hosp/procedures_icd.csv.gz\")\n",
    "df_ehr_procedures = pd.read_csv(ehr_procedures_path, index_col=False)\n",
    "\n",
    "df_ehr_procedures.head()"
   ]
  },
  {
   "cell_type": "code",
   "execution_count": 4,
   "metadata": {},
   "outputs": [
    {
     "data": {
      "text/html": [
       "<div>\n",
       "<style scoped>\n",
       "    .dataframe tbody tr th:only-of-type {\n",
       "        vertical-align: middle;\n",
       "    }\n",
       "\n",
       "    .dataframe tbody tr th {\n",
       "        vertical-align: top;\n",
       "    }\n",
       "\n",
       "    .dataframe thead th {\n",
       "        text-align: right;\n",
       "    }\n",
       "</style>\n",
       "<table border=\"1\" class=\"dataframe\">\n",
       "  <thead>\n",
       "    <tr style=\"text-align: right;\">\n",
       "      <th></th>\n",
       "      <th>subject_id</th>\n",
       "      <th>hadm_id</th>\n",
       "    </tr>\n",
       "  </thead>\n",
       "  <tbody>\n",
       "    <tr>\n",
       "      <th>0</th>\n",
       "      <td>10001217</td>\n",
       "      <td>27703517</td>\n",
       "    </tr>\n",
       "    <tr>\n",
       "      <th>1</th>\n",
       "      <td>10001884</td>\n",
       "      <td>26184834</td>\n",
       "    </tr>\n",
       "    <tr>\n",
       "      <th>6</th>\n",
       "      <td>10002013</td>\n",
       "      <td>23581541</td>\n",
       "    </tr>\n",
       "    <tr>\n",
       "      <th>10</th>\n",
       "      <td>10002428</td>\n",
       "      <td>28662225</td>\n",
       "    </tr>\n",
       "    <tr>\n",
       "      <th>11</th>\n",
       "      <td>10002428</td>\n",
       "      <td>23473524</td>\n",
       "    </tr>\n",
       "  </tbody>\n",
       "</table>\n",
       "</div>"
      ],
      "text/plain": [
       "    subject_id   hadm_id\n",
       "0     10001217  27703517\n",
       "1     10001884  26184834\n",
       "6     10002013  23581541\n",
       "10    10002428  28662225\n",
       "11    10002428  23473524"
      ]
     },
     "execution_count": 4,
     "metadata": {},
     "output_type": "execute_result"
    }
   ],
   "source": [
    "icu_cxr = pd.read_csv(os.path.join(\"outputs\", \"icu_cxr.csv.gz\"), compression=\"gzip\")\n",
    "selected_columns = [\"subject_id\", \"hadm_id\"]\n",
    "icu_subject_hadm_df = icu_cxr[selected_columns].copy()\n",
    "icu_subject_hadm_df.drop_duplicates(inplace=True, keep=\"first\")\n",
    "icu_subject_hadm_df.head()"
   ]
  },
  {
   "cell_type": "code",
   "execution_count": 5,
   "metadata": {},
   "outputs": [
    {
     "data": {
      "text/html": [
       "<div>\n",
       "<style scoped>\n",
       "    .dataframe tbody tr th:only-of-type {\n",
       "        vertical-align: middle;\n",
       "    }\n",
       "\n",
       "    .dataframe tbody tr th {\n",
       "        vertical-align: top;\n",
       "    }\n",
       "\n",
       "    .dataframe thead th {\n",
       "        text-align: right;\n",
       "    }\n",
       "</style>\n",
       "<table border=\"1\" class=\"dataframe\">\n",
       "  <thead>\n",
       "    <tr style=\"text-align: right;\">\n",
       "      <th></th>\n",
       "      <th>subject_id</th>\n",
       "      <th>hadm_id</th>\n",
       "      <th>seq_num</th>\n",
       "      <th>chartdate</th>\n",
       "      <th>icd_code</th>\n",
       "      <th>icd_version</th>\n",
       "    </tr>\n",
       "  </thead>\n",
       "  <tbody>\n",
       "    <tr>\n",
       "      <th>0</th>\n",
       "      <td>10001217</td>\n",
       "      <td>27703517</td>\n",
       "      <td>1</td>\n",
       "      <td>2157-12-19</td>\n",
       "      <td>0139</td>\n",
       "      <td>9</td>\n",
       "    </tr>\n",
       "    <tr>\n",
       "      <th>1</th>\n",
       "      <td>10001884</td>\n",
       "      <td>26184834</td>\n",
       "      <td>1</td>\n",
       "      <td>2131-01-11</td>\n",
       "      <td>5A1945Z</td>\n",
       "      <td>10</td>\n",
       "    </tr>\n",
       "    <tr>\n",
       "      <th>2</th>\n",
       "      <td>10001884</td>\n",
       "      <td>26184834</td>\n",
       "      <td>2</td>\n",
       "      <td>2131-01-12</td>\n",
       "      <td>5A1955Z</td>\n",
       "      <td>10</td>\n",
       "    </tr>\n",
       "    <tr>\n",
       "      <th>3</th>\n",
       "      <td>10001884</td>\n",
       "      <td>26184834</td>\n",
       "      <td>3</td>\n",
       "      <td>2131-01-11</td>\n",
       "      <td>0BH17EZ</td>\n",
       "      <td>10</td>\n",
       "    </tr>\n",
       "    <tr>\n",
       "      <th>4</th>\n",
       "      <td>10001884</td>\n",
       "      <td>26184834</td>\n",
       "      <td>4</td>\n",
       "      <td>2131-01-11</td>\n",
       "      <td>5A1223Z</td>\n",
       "      <td>10</td>\n",
       "    </tr>\n",
       "  </tbody>\n",
       "</table>\n",
       "</div>"
      ],
      "text/plain": [
       "   subject_id   hadm_id  seq_num   chartdate icd_code  icd_version\n",
       "0    10001217  27703517        1  2157-12-19     0139            9\n",
       "1    10001884  26184834        1  2131-01-11  5A1945Z           10\n",
       "2    10001884  26184834        2  2131-01-12  5A1955Z           10\n",
       "3    10001884  26184834        3  2131-01-11  0BH17EZ           10\n",
       "4    10001884  26184834        4  2131-01-11  5A1223Z           10"
      ]
     },
     "execution_count": 5,
     "metadata": {},
     "output_type": "execute_result"
    }
   ],
   "source": [
    "df_icu_procedures = pd.merge(icu_subject_hadm_df, df_ehr_procedures, \n",
    "                            on=[\"subject_id\", \"hadm_id\"], \n",
    "                            how=\"inner\")\n",
    "df_icu_procedures.head()"
   ]
  },
  {
   "cell_type": "code",
   "execution_count": 6,
   "metadata": {},
   "outputs": [
    {
     "data": {
      "text/html": [
       "<div>\n",
       "<style scoped>\n",
       "    .dataframe tbody tr th:only-of-type {\n",
       "        vertical-align: middle;\n",
       "    }\n",
       "\n",
       "    .dataframe tbody tr th {\n",
       "        vertical-align: top;\n",
       "    }\n",
       "\n",
       "    .dataframe thead th {\n",
       "        text-align: right;\n",
       "    }\n",
       "</style>\n",
       "<table border=\"1\" class=\"dataframe\">\n",
       "  <thead>\n",
       "    <tr style=\"text-align: right;\">\n",
       "      <th></th>\n",
       "      <th>icd_code</th>\n",
       "      <th>icd_version</th>\n",
       "      <th>long_title</th>\n",
       "    </tr>\n",
       "  </thead>\n",
       "  <tbody>\n",
       "    <tr>\n",
       "      <th>0</th>\n",
       "      <td>0001</td>\n",
       "      <td>9</td>\n",
       "      <td>Therapeutic ultrasound of vessels of head and ...</td>\n",
       "    </tr>\n",
       "    <tr>\n",
       "      <th>1</th>\n",
       "      <td>0002</td>\n",
       "      <td>9</td>\n",
       "      <td>Therapeutic ultrasound of heart</td>\n",
       "    </tr>\n",
       "    <tr>\n",
       "      <th>2</th>\n",
       "      <td>0003</td>\n",
       "      <td>9</td>\n",
       "      <td>Therapeutic ultrasound of peripheral vascular ...</td>\n",
       "    </tr>\n",
       "    <tr>\n",
       "      <th>3</th>\n",
       "      <td>0009</td>\n",
       "      <td>9</td>\n",
       "      <td>Other therapeutic ultrasound</td>\n",
       "    </tr>\n",
       "    <tr>\n",
       "      <th>4</th>\n",
       "      <td>001</td>\n",
       "      <td>10</td>\n",
       "      <td>Central Nervous System and Cranial Nerves, Bypass</td>\n",
       "    </tr>\n",
       "  </tbody>\n",
       "</table>\n",
       "</div>"
      ],
      "text/plain": [
       "  icd_code  icd_version                                         long_title\n",
       "0     0001            9  Therapeutic ultrasound of vessels of head and ...\n",
       "1     0002            9                    Therapeutic ultrasound of heart\n",
       "2     0003            9  Therapeutic ultrasound of peripheral vascular ...\n",
       "3     0009            9                       Other therapeutic ultrasound\n",
       "4      001           10  Central Nervous System and Cranial Nerves, Bypass"
      ]
     },
     "execution_count": 6,
     "metadata": {},
     "output_type": "execute_result"
    }
   ],
   "source": [
    "icd_procedures_path = os.path.join(ehr_data_dir, \"hosp/d_icd_procedures.csv.gz\")\n",
    "df_ehr_icd_procedures = pd.read_csv(icd_procedures_path)\n",
    "df_ehr_icd_procedures.head()"
   ]
  },
  {
   "cell_type": "code",
   "execution_count": 7,
   "metadata": {},
   "outputs": [
    {
     "data": {
      "text/html": [
       "<div>\n",
       "<style scoped>\n",
       "    .dataframe tbody tr th:only-of-type {\n",
       "        vertical-align: middle;\n",
       "    }\n",
       "\n",
       "    .dataframe tbody tr th {\n",
       "        vertical-align: top;\n",
       "    }\n",
       "\n",
       "    .dataframe thead th {\n",
       "        text-align: right;\n",
       "    }\n",
       "</style>\n",
       "<table border=\"1\" class=\"dataframe\">\n",
       "  <thead>\n",
       "    <tr style=\"text-align: right;\">\n",
       "      <th></th>\n",
       "      <th>subject_id</th>\n",
       "      <th>hadm_id</th>\n",
       "      <th>icd_code</th>\n",
       "      <th>icd_version</th>\n",
       "      <th>long_title</th>\n",
       "    </tr>\n",
       "  </thead>\n",
       "  <tbody>\n",
       "    <tr>\n",
       "      <th>0</th>\n",
       "      <td>10001217</td>\n",
       "      <td>27703517</td>\n",
       "      <td>0139</td>\n",
       "      <td>9</td>\n",
       "      <td>other incision of brain</td>\n",
       "    </tr>\n",
       "    <tr>\n",
       "      <th>1</th>\n",
       "      <td>10001884</td>\n",
       "      <td>26184834</td>\n",
       "      <td>5A1945Z</td>\n",
       "      <td>10</td>\n",
       "      <td>respiratory ventilation, 24-96 consecutive hours</td>\n",
       "    </tr>\n",
       "    <tr>\n",
       "      <th>2</th>\n",
       "      <td>10001884</td>\n",
       "      <td>26184834</td>\n",
       "      <td>5A1955Z</td>\n",
       "      <td>10</td>\n",
       "      <td>respiratory ventilation, greater than 96 conse...</td>\n",
       "    </tr>\n",
       "    <tr>\n",
       "      <th>3</th>\n",
       "      <td>10001884</td>\n",
       "      <td>26184834</td>\n",
       "      <td>0BH17EZ</td>\n",
       "      <td>10</td>\n",
       "      <td>insertion of endotracheal airway into trachea,...</td>\n",
       "    </tr>\n",
       "    <tr>\n",
       "      <th>4</th>\n",
       "      <td>10001884</td>\n",
       "      <td>26184834</td>\n",
       "      <td>5A1223Z</td>\n",
       "      <td>10</td>\n",
       "      <td>performance of cardiac pacing, continuous</td>\n",
       "    </tr>\n",
       "  </tbody>\n",
       "</table>\n",
       "</div>"
      ],
      "text/plain": [
       "   subject_id   hadm_id icd_code  icd_version  \\\n",
       "0    10001217  27703517     0139            9   \n",
       "1    10001884  26184834  5A1945Z           10   \n",
       "2    10001884  26184834  5A1955Z           10   \n",
       "3    10001884  26184834  0BH17EZ           10   \n",
       "4    10001884  26184834  5A1223Z           10   \n",
       "\n",
       "                                          long_title  \n",
       "0                            other incision of brain  \n",
       "1   respiratory ventilation, 24-96 consecutive hours  \n",
       "2  respiratory ventilation, greater than 96 conse...  \n",
       "3  insertion of endotracheal airway into trachea,...  \n",
       "4          performance of cardiac pacing, continuous  "
      ]
     },
     "execution_count": 7,
     "metadata": {},
     "output_type": "execute_result"
    }
   ],
   "source": [
    "df_icu_procedures_result = pd.merge(df_icu_procedures, df_ehr_icd_procedures,  \n",
    "                                    on=[\"icd_code\", \"icd_version\"], \n",
    "                                    how=\"left\")\n",
    "\n",
    "selected_columns = [\"subject_id\", \"hadm_id\", \"icd_code\", \"icd_version\", \"long_title\"]\n",
    "df_icu_procedures_result = df_icu_procedures_result[selected_columns]\n",
    "df_icu_procedures_result[\"long_title\"] = df_icu_procedures_result[\"long_title\"].str.lower()\n",
    "df_icu_procedures_result.head()"
   ]
  },
  {
   "cell_type": "code",
   "execution_count": 8,
   "metadata": {},
   "outputs": [
    {
     "name": "stdout",
     "output_type": "stream",
     "text": [
      "Index(['subject_id', 'hadm_id', 'icd_code', 'icd_version', 'long_title'], dtype='object')\n"
     ]
    }
   ],
   "source": [
    "print(df_icu_procedures_result.columns)"
   ]
  },
  {
   "cell_type": "code",
   "execution_count": 9,
   "metadata": {},
   "outputs": [],
   "source": [
    "df_icu_procedures_result.to_csv(os.path.join(\"outputs\", \"icu_procedures.csv.gz\"),\n",
    "                                index=False, compression=\"gzip\")"
   ]
  },
  {
   "cell_type": "code",
   "execution_count": 10,
   "metadata": {},
   "outputs": [
    {
     "name": "stdout",
     "output_type": "stream",
     "text": [
      "File size: 689.38 KB\n"
     ]
    }
   ],
   "source": [
    "readable_file_size = get_readable_file_size(os.path.join(\"outputs\", \"icu_procedures.csv.gz\"))\n",
    "print(f\"File size: {readable_file_size}\")"
   ]
  },
  {
   "cell_type": "code",
   "execution_count": 11,
   "metadata": {},
   "outputs": [],
   "source": [
    "import torch\n",
    "import ollama\n",
    "\n",
    "os.environ[\"CUDA_VISIBLE_DEVICES\"] = \"5, 6\"\n",
    "device = \"cuda\" if torch.cuda.is_available() else \"cpu\""
   ]
  },
  {
   "cell_type": "code",
   "execution_count": 12,
   "metadata": {},
   "outputs": [
    {
     "name": "stdout",
     "output_type": "stream",
     "text": [
      "This is the description to the icu_procedures.csv.gz file. This file is located in outputs/icu_procedures.csv.gz.\n",
      "subject_id: A unique identifier for each patient. This ID is specific to each patient, distinguishing them within the dataset.\n",
      "hadm_id: A unique identifier for each hospital admission. Each admission has its own hadm_id, allowing for separation of different admissions for the same patient.\n",
      "icd_code: The ICD (International Classification of Diseases) code for the procedure. This code represents the specific procedure performed on the patient.\n",
      "icd_version: The version of the ICD coding system used. This indicates which version of the ICD codes (e.g., ICD-9 or ICD-10) was applied to classify the procedure.\n",
      "long_title: A descriptive title for the ICD code. This provides a human-readable description of the procedure, such as “appendectomy” or “coronary artery bypass.”. All characters are in lowercase.\n",
      "Please generate python code to answer the question. Only generate code for the question. no explanation and other description. use print to putput the result. the final result variable should be named as result.\n"
     ]
    }
   ],
   "source": [
    "# Open the file in read mode and read the content as a string\n",
    "with open('files/procedures_description.txt', 'r') as file:\n",
    "    description_text = file.read()\n",
    "\n",
    "with open('files/prompt_text.txt', 'r') as file:\n",
    "    prompt_text = file.read()\n",
    "# Print the content of the file\n",
    "print(description_text)\n",
    "print(prompt_text)"
   ]
  },
  {
   "cell_type": "code",
   "execution_count": 13,
   "metadata": {},
   "outputs": [
    {
     "name": "stdout",
     "output_type": "stream",
     "text": [
      "```python\n",
      "import pandas as pd\n",
      "\n",
      "# Load the CSV file\n",
      "file_path = 'outputs/icu_procedures.csv.gz'\n",
      "data = pd.read_csv(file_path)\n",
      "\n",
      "# Filter for patient with subject_id 10001217 and the specific procedure\n",
      "patient_id = 10001217\n",
      "procedure_code = \"42659\"  # Assuming this is the ICD code for left heart cardiac catheterization\n",
      "\n",
      "filtered_data = data[(data['subject_id'] == patient_id) & (data['icd_code'] == procedure_code)]\n",
      "\n",
      "# Count occurrences of the procedure for the given patient\n",
      "result = len(filtered_data)\n",
      "print(result)\n",
      "```\n"
     ]
    }
   ],
   "source": [
    "# extract information from discharge summary\n",
    "description_text = description_text\n",
    "prompt_text = prompt_text\n",
    "question_text = \"How many times did the patient 10001217 receive left heart cardiac catheterization?\"\n",
    "input_text = description_text + \" \" + prompt_text + \" \" + question_text\n",
    "\n",
    "response = ollama.chat(model=\"qwen2.5:14b\", messages = [{\"role\": \"user\", \"content\": input_text,}],\n",
    "                       stream=False)\n",
    "answer_text = response[\"message\"][\"content\"]\n",
    "print(answer_text)"
   ]
  },
  {
   "cell_type": "code",
   "execution_count": 14,
   "metadata": {},
   "outputs": [
    {
     "name": "stdout",
     "output_type": "stream",
     "text": [
      "0\n"
     ]
    }
   ],
   "source": [
    "import pandas as pd\n",
    "\n",
    "# Load the CSV file\n",
    "file_path = 'outputs/icu_procedures.csv.gz'\n",
    "data = pd.read_csv(file_path)\n",
    "\n",
    "# Filter for patient with subject_id 10001217 and the specific procedure\n",
    "patient_id = 10001217\n",
    "procedure_code = \"42659\"  # Assuming this is the ICD code for left heart cardiac catheterization\n",
    "\n",
    "filtered_data = data[(data['subject_id'] == patient_id) & (data['icd_code'] == procedure_code)]\n",
    "\n",
    "# Count occurrences of the procedure for the given patient\n",
    "result = len(filtered_data)\n",
    "print(result)\n"
   ]
  }
 ],
 "metadata": {
  "kernelspec": {
   "display_name": "PyTorch",
   "language": "python",
   "name": "python3"
  },
  "language_info": {
   "codemirror_mode": {
    "name": "ipython",
    "version": 3
   },
   "file_extension": ".py",
   "mimetype": "text/x-python",
   "name": "python",
   "nbconvert_exporter": "python",
   "pygments_lexer": "ipython3",
   "version": "3.10.10"
  }
 },
 "nbformat": 4,
 "nbformat_minor": 2
}
