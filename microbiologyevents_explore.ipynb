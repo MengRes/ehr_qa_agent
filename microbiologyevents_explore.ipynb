{
 "cells": [
  {
   "cell_type": "code",
   "execution_count": 1,
   "metadata": {},
   "outputs": [],
   "source": [
    "import os\n",
    "import pandas as pd\n",
    "import numpy as np\n",
    "import matplotlib.pyplot as plt\n",
    "import seaborn as sns\n",
    "import datetime\n",
    "\n",
    "from tqdm import tqdm\n",
    "from utils.utils import get_readable_file_size"
   ]
  },
  {
   "cell_type": "code",
   "execution_count": 2,
   "metadata": {},
   "outputs": [],
   "source": [
    "ehr_data_dir = \"/home/mengliang/DatasetFolder/mimiciv/2.2\""
   ]
  },
  {
   "cell_type": "code",
   "execution_count": 3,
   "metadata": {},
   "outputs": [
    {
     "name": "stderr",
     "output_type": "stream",
     "text": [
      "/tmp/ipykernel_3044300/4224682507.py:2: DtypeWarning: Columns (17) have mixed types. Specify dtype option on import or set low_memory=False.\n",
      "  df_ehr_microbiologyevents = pd.read_csv(ehr_microbiologyevents_path, index_col=False)\n"
     ]
    },
    {
     "data": {
      "text/html": [
       "<div>\n",
       "<style scoped>\n",
       "    .dataframe tbody tr th:only-of-type {\n",
       "        vertical-align: middle;\n",
       "    }\n",
       "\n",
       "    .dataframe tbody tr th {\n",
       "        vertical-align: top;\n",
       "    }\n",
       "\n",
       "    .dataframe thead th {\n",
       "        text-align: right;\n",
       "    }\n",
       "</style>\n",
       "<table border=\"1\" class=\"dataframe\">\n",
       "  <thead>\n",
       "    <tr style=\"text-align: right;\">\n",
       "      <th></th>\n",
       "      <th>subject_id</th>\n",
       "      <th>hadm_id</th>\n",
       "      <th>charttime</th>\n",
       "      <th>spec_type_desc</th>\n",
       "      <th>test_name</th>\n",
       "      <th>org_name</th>\n",
       "    </tr>\n",
       "  </thead>\n",
       "  <tbody>\n",
       "    <tr>\n",
       "      <th>0</th>\n",
       "      <td>10000032</td>\n",
       "      <td>NaN</td>\n",
       "      <td>2180-03-23 11:51:00</td>\n",
       "      <td>Blood (Toxo)</td>\n",
       "      <td>TOXOPLASMA IgG ANTIBODY</td>\n",
       "      <td>NaN</td>\n",
       "    </tr>\n",
       "    <tr>\n",
       "      <th>1</th>\n",
       "      <td>10000032</td>\n",
       "      <td>NaN</td>\n",
       "      <td>2180-03-23 11:51:00</td>\n",
       "      <td>SEROLOGY/BLOOD</td>\n",
       "      <td>RUBEOLA ANTIBODY, IgG</td>\n",
       "      <td>NaN</td>\n",
       "    </tr>\n",
       "    <tr>\n",
       "      <th>2</th>\n",
       "      <td>10000032</td>\n",
       "      <td>NaN</td>\n",
       "      <td>2180-03-23 11:51:00</td>\n",
       "      <td>Blood (CMV AB)</td>\n",
       "      <td>CMV IgG ANTIBODY</td>\n",
       "      <td>NaN</td>\n",
       "    </tr>\n",
       "    <tr>\n",
       "      <th>3</th>\n",
       "      <td>10000032</td>\n",
       "      <td>NaN</td>\n",
       "      <td>2180-03-23 11:51:00</td>\n",
       "      <td>Blood (CMV AB)</td>\n",
       "      <td>CMV IgM ANTIBODY</td>\n",
       "      <td>NaN</td>\n",
       "    </tr>\n",
       "    <tr>\n",
       "      <th>4</th>\n",
       "      <td>10000032</td>\n",
       "      <td>NaN</td>\n",
       "      <td>2180-03-23 11:51:00</td>\n",
       "      <td>Blood (EBV)</td>\n",
       "      <td>EPSTEIN-BARR VIRUS VCA-IgG AB</td>\n",
       "      <td>NaN</td>\n",
       "    </tr>\n",
       "  </tbody>\n",
       "</table>\n",
       "</div>"
      ],
      "text/plain": [
       "   subject_id  hadm_id            charttime  spec_type_desc  \\\n",
       "0    10000032      NaN  2180-03-23 11:51:00    Blood (Toxo)   \n",
       "1    10000032      NaN  2180-03-23 11:51:00  SEROLOGY/BLOOD   \n",
       "2    10000032      NaN  2180-03-23 11:51:00  Blood (CMV AB)   \n",
       "3    10000032      NaN  2180-03-23 11:51:00  Blood (CMV AB)   \n",
       "4    10000032      NaN  2180-03-23 11:51:00     Blood (EBV)   \n",
       "\n",
       "                       test_name org_name  \n",
       "0        TOXOPLASMA IgG ANTIBODY      NaN  \n",
       "1          RUBEOLA ANTIBODY, IgG      NaN  \n",
       "2               CMV IgG ANTIBODY      NaN  \n",
       "3               CMV IgM ANTIBODY      NaN  \n",
       "4  EPSTEIN-BARR VIRUS VCA-IgG AB      NaN  "
      ]
     },
     "execution_count": 3,
     "metadata": {},
     "output_type": "execute_result"
    }
   ],
   "source": [
    "ehr_microbiologyevents_path = os.path.join(ehr_data_dir, \"hosp/microbiologyevents.csv.gz\")\n",
    "df_ehr_microbiologyevents = pd.read_csv(ehr_microbiologyevents_path, index_col=False)\n",
    "\n",
    "selected_columns = ['subject_id', 'hadm_id', 'charttime', 'spec_type_desc', 'test_name', 'org_name']\n",
    "df_ehr_microbiologyevents = df_ehr_microbiologyevents[selected_columns]\n",
    "df_ehr_microbiologyevents.head()"
   ]
  },
  {
   "cell_type": "code",
   "execution_count": 4,
   "metadata": {},
   "outputs": [
    {
     "name": "stdout",
     "output_type": "stream",
     "text": [
      "org_name\n",
      "ESCHERICHIA COLI            453913\n",
      "STAPH AUREUS COAG +         181628\n",
      "KLEBSIELLA PNEUMONIAE       119355\n",
      "PSEUDOMONAS AERUGINOSA       65068\n",
      "PROTEUS MIRABILIS            53188\n",
      "                             ...  \n",
      "CUTIBACTERIUM AVIDUM             1\n",
      "SALMONELLA KIAMBU                1\n",
      "PENICILLIUM FELLUTANUM           1\n",
      "CONIDIOBOLUS SPECIES             1\n",
      "HAEMOPHILUS HAEMOLYTICUS         1\n",
      "Name: count, Length: 642, dtype: int64\n"
     ]
    }
   ],
   "source": [
    "print(df_ehr_microbiologyevents[\"org_name\"].value_counts())"
   ]
  },
  {
   "cell_type": "code",
   "execution_count": 5,
   "metadata": {},
   "outputs": [
    {
     "data": {
      "text/html": [
       "<div>\n",
       "<style scoped>\n",
       "    .dataframe tbody tr th:only-of-type {\n",
       "        vertical-align: middle;\n",
       "    }\n",
       "\n",
       "    .dataframe tbody tr th {\n",
       "        vertical-align: top;\n",
       "    }\n",
       "\n",
       "    .dataframe thead th {\n",
       "        text-align: right;\n",
       "    }\n",
       "</style>\n",
       "<table border=\"1\" class=\"dataframe\">\n",
       "  <thead>\n",
       "    <tr style=\"text-align: right;\">\n",
       "      <th></th>\n",
       "      <th>subject_id</th>\n",
       "      <th>hadm_id</th>\n",
       "    </tr>\n",
       "  </thead>\n",
       "  <tbody>\n",
       "    <tr>\n",
       "      <th>0</th>\n",
       "      <td>10001217</td>\n",
       "      <td>27703517</td>\n",
       "    </tr>\n",
       "    <tr>\n",
       "      <th>1</th>\n",
       "      <td>10001884</td>\n",
       "      <td>26184834</td>\n",
       "    </tr>\n",
       "    <tr>\n",
       "      <th>6</th>\n",
       "      <td>10002013</td>\n",
       "      <td>23581541</td>\n",
       "    </tr>\n",
       "    <tr>\n",
       "      <th>10</th>\n",
       "      <td>10002428</td>\n",
       "      <td>28662225</td>\n",
       "    </tr>\n",
       "    <tr>\n",
       "      <th>11</th>\n",
       "      <td>10002428</td>\n",
       "      <td>23473524</td>\n",
       "    </tr>\n",
       "  </tbody>\n",
       "</table>\n",
       "</div>"
      ],
      "text/plain": [
       "    subject_id   hadm_id\n",
       "0     10001217  27703517\n",
       "1     10001884  26184834\n",
       "6     10002013  23581541\n",
       "10    10002428  28662225\n",
       "11    10002428  23473524"
      ]
     },
     "execution_count": 5,
     "metadata": {},
     "output_type": "execute_result"
    }
   ],
   "source": [
    "icu_cxr = pd.read_csv(os.path.join(\"outputs\", \"icu_cxr.csv.gz\"), compression=\"gzip\")\n",
    "selected_columns = [\"subject_id\", \"hadm_id\"]\n",
    "icu_subject_hadm_df = icu_cxr[selected_columns].copy()\n",
    "icu_subject_hadm_df.drop_duplicates(inplace=True, keep=\"first\")\n",
    "icu_subject_hadm_df.head()"
   ]
  },
  {
   "cell_type": "code",
   "execution_count": 6,
   "metadata": {},
   "outputs": [],
   "source": [
    "df_icu_microbiologyevents = pd.merge(icu_subject_hadm_df, df_ehr_microbiologyevents, \n",
    "                                     on=[\"subject_id\", \"hadm_id\"], how=\"inner\")"
   ]
  },
  {
   "cell_type": "code",
   "execution_count": 7,
   "metadata": {},
   "outputs": [
    {
     "data": {
      "text/html": [
       "<div>\n",
       "<style scoped>\n",
       "    .dataframe tbody tr th:only-of-type {\n",
       "        vertical-align: middle;\n",
       "    }\n",
       "\n",
       "    .dataframe tbody tr th {\n",
       "        vertical-align: top;\n",
       "    }\n",
       "\n",
       "    .dataframe thead th {\n",
       "        text-align: right;\n",
       "    }\n",
       "</style>\n",
       "<table border=\"1\" class=\"dataframe\">\n",
       "  <thead>\n",
       "    <tr style=\"text-align: right;\">\n",
       "      <th></th>\n",
       "      <th>subject_id</th>\n",
       "      <th>hadm_id</th>\n",
       "      <th>charttime</th>\n",
       "      <th>spec_type_desc</th>\n",
       "      <th>test_name</th>\n",
       "      <th>org_name</th>\n",
       "    </tr>\n",
       "  </thead>\n",
       "  <tbody>\n",
       "    <tr>\n",
       "      <th>0</th>\n",
       "      <td>10001217</td>\n",
       "      <td>27703517</td>\n",
       "      <td>2157-12-19 14:55:00</td>\n",
       "      <td>swab</td>\n",
       "      <td>gram stain</td>\n",
       "      <td>NaN</td>\n",
       "    </tr>\n",
       "    <tr>\n",
       "      <th>1</th>\n",
       "      <td>10001217</td>\n",
       "      <td>27703517</td>\n",
       "      <td>2157-12-19 14:55:00</td>\n",
       "      <td>swab</td>\n",
       "      <td>wound culture</td>\n",
       "      <td>NaN</td>\n",
       "    </tr>\n",
       "    <tr>\n",
       "      <th>2</th>\n",
       "      <td>10001217</td>\n",
       "      <td>27703517</td>\n",
       "      <td>2157-12-19 14:55:00</td>\n",
       "      <td>swab</td>\n",
       "      <td>anaerobic culture</td>\n",
       "      <td>NaN</td>\n",
       "    </tr>\n",
       "    <tr>\n",
       "      <th>3</th>\n",
       "      <td>10001217</td>\n",
       "      <td>27703517</td>\n",
       "      <td>2157-12-19 14:55:00</td>\n",
       "      <td>swab</td>\n",
       "      <td>fungal culture</td>\n",
       "      <td>NaN</td>\n",
       "    </tr>\n",
       "    <tr>\n",
       "      <th>4</th>\n",
       "      <td>10001217</td>\n",
       "      <td>27703517</td>\n",
       "      <td>2157-12-19 14:55:00</td>\n",
       "      <td>swab</td>\n",
       "      <td>acid fast smear</td>\n",
       "      <td>NaN</td>\n",
       "    </tr>\n",
       "  </tbody>\n",
       "</table>\n",
       "</div>"
      ],
      "text/plain": [
       "   subject_id   hadm_id            charttime spec_type_desc  \\\n",
       "0    10001217  27703517  2157-12-19 14:55:00           swab   \n",
       "1    10001217  27703517  2157-12-19 14:55:00           swab   \n",
       "2    10001217  27703517  2157-12-19 14:55:00           swab   \n",
       "3    10001217  27703517  2157-12-19 14:55:00           swab   \n",
       "4    10001217  27703517  2157-12-19 14:55:00           swab   \n",
       "\n",
       "           test_name org_name  \n",
       "0         gram stain      NaN  \n",
       "1      wound culture      NaN  \n",
       "2  anaerobic culture      NaN  \n",
       "3     fungal culture      NaN  \n",
       "4    acid fast smear      NaN  "
      ]
     },
     "execution_count": 7,
     "metadata": {},
     "output_type": "execute_result"
    }
   ],
   "source": [
    "df_icu_microbiologyevents[\"spec_type_desc\"] = df_icu_microbiologyevents[\"spec_type_desc\"].str.lower()\n",
    "df_icu_microbiologyevents[\"test_name\"] = df_icu_microbiologyevents[\"test_name\"].str.lower()\n",
    "df_icu_microbiologyevents[\"org_name\"] = df_icu_microbiologyevents[\"org_name\"].str.lower()\n",
    "\n",
    "df_icu_microbiologyevents.head()"
   ]
  },
  {
   "cell_type": "code",
   "execution_count": 8,
   "metadata": {},
   "outputs": [
    {
     "name": "stdout",
     "output_type": "stream",
     "text": [
      "Index(['subject_id', 'hadm_id', 'charttime', 'spec_type_desc', 'test_name',\n",
      "       'org_name'],\n",
      "      dtype='object')\n"
     ]
    }
   ],
   "source": [
    "print(df_icu_microbiologyevents.columns)"
   ]
  },
  {
   "cell_type": "code",
   "execution_count": 9,
   "metadata": {},
   "outputs": [],
   "source": [
    "df_icu_microbiologyevents.to_csv(os.path.join(\"outputs\", \"icu_microbiologyevents.csv.gz\"),\n",
    "                                 index=False, compression=\"gzip\")"
   ]
  },
  {
   "cell_type": "code",
   "execution_count": 10,
   "metadata": {},
   "outputs": [
    {
     "name": "stdout",
     "output_type": "stream",
     "text": [
      "File size: 1.24 MB\n"
     ]
    }
   ],
   "source": [
    "readable_file_size = get_readable_file_size(os.path.join(\"outputs\", \"icu_microbiologyevents.csv.gz\"))\n",
    "print(f\"File size: {readable_file_size}\")"
   ]
  },
  {
   "cell_type": "code",
   "execution_count": 11,
   "metadata": {},
   "outputs": [],
   "source": [
    "import os\n",
    "import torch\n",
    "import ollama\n",
    "\n",
    "os.environ[\"CUDA_VISIBLE_DEVICES\"] = \"5, 6\"\n",
    "device = \"cuda\" if torch.cuda.is_available() else \"cpu\""
   ]
  },
  {
   "cell_type": "code",
   "execution_count": 12,
   "metadata": {},
   "outputs": [
    {
     "name": "stdout",
     "output_type": "stream",
     "text": [
      "This is the description to the icu_microbiologyevents.csv.gz file. This file is located in outputs/icu_microbiologyevents.csv.gz.\n",
      "subject_id: A unique identifier for each patient. This ID is specific to each patient and distinguishes them within the database.\n",
      "hadm_id: A unique identifier for each hospital admission. Each hospital stay is associated with its own hadm_id, differentiating multiple admissions for the same patient.\n",
      "charttime: The recorded time for the microbiology event. This timestamp reflects when the microbiology sample was collected or logged.\n",
      "spec_type_desc: A description of the specimen type. This provides information on the type of specimen collected for testing, such as “blood,” “urine,” or “sputum.”. All characters are in lowercase.\n",
      "test_name: The name of the microbiology test. This specifies the type of test conducted on the specimen, such as a “culture” or “gram stain.”. All characters are in lowercase.\n",
      "org_name: The name of the organism identified (if any). This column lists the organism detected in the test, such as “escherichia coli” or “staphylococcus aureus.”. All characters are in lowercase.\n",
      "Please generate python code to answer the question. Only generate code for the question. no explanation and other description. use print to putput the result. the final result variable should be named as result.\n"
     ]
    }
   ],
   "source": [
    "# Open the file in read mode and read the content as a string\n",
    "with open('files/microbiologyevents_description.txt', 'r') as file:\n",
    "    description_text = file.read()\n",
    "\n",
    "with open('files/prompt_text.txt', 'r') as file:\n",
    "    prompt_text = file.read()\n",
    "\n",
    "# Print the content of the file\n",
    "print(description_text)\n",
    "print(prompt_text)"
   ]
  },
  {
   "cell_type": "code",
   "execution_count": 13,
   "metadata": {},
   "outputs": [
    {
     "name": "stdout",
     "output_type": "stream",
     "text": [
      "```python\n",
      "import pandas as pd\n",
      "\n",
      "# Load the dataset\n",
      "file_path = 'outputs/icu_microbiologyevents.csv.gz'\n",
      "data = pd.read_csv(file_path)\n",
      "\n",
      "# Filter data for subject_id 10001217 and specific hadm_id (assuming hadm_id needs to be filtered based on subject_id)\n",
      "patient_data = data[data['subject_id'] == 10001217]\n",
      "\n",
      "# Get unique test names\n",
      "test_names = patient_data['test_name'].unique()\n",
      "\n",
      "# Convert array to list format\n",
      "result = test_names.tolist()\n",
      "print(result)\n",
      "```\n"
     ]
    }
   ],
   "source": [
    "# extract information from discharge summary\n",
    "description_text = description_text\n",
    "prompt_text = prompt_text\n",
    "question_text = \"List all the microbiology test names of patient 10001217 during the admission.\"\n",
    "input_text = description_text + \" \" + prompt_text + \" \" + question_text\n",
    "\n",
    "response = ollama.chat(model=\"qwen2.5:14b\", messages = [{\"role\": \"user\", \"content\": input_text,}],\n",
    "                       stream=False)\n",
    "answer_text = response[\"message\"][\"content\"]\n",
    "print(answer_text)"
   ]
  },
  {
   "cell_type": "code",
   "execution_count": 14,
   "metadata": {},
   "outputs": [
    {
     "name": "stdout",
     "output_type": "stream",
     "text": [
      "['gram stain', 'wound culture', 'anaerobic culture', 'fungal culture', 'acid fast smear', 'acid fast culture', 'mrsa screen']\n"
     ]
    }
   ],
   "source": [
    "import pandas as pd\n",
    "\n",
    "# Load the dataset\n",
    "file_path = 'outputs/icu_microbiologyevents.csv.gz'\n",
    "data = pd.read_csv(file_path)\n",
    "\n",
    "# Filter data for subject_id 10001217 and specific hadm_id (assuming hadm_id needs to be filtered based on subject_id)\n",
    "patient_data = data[data['subject_id'] == 10001217]\n",
    "\n",
    "# Get unique test names\n",
    "test_names = patient_data['test_name'].unique()\n",
    "\n",
    "# Convert array to list format\n",
    "result = test_names.tolist()\n",
    "print(result)"
   ]
  },
  {
   "cell_type": "code",
   "execution_count": 15,
   "metadata": {},
   "outputs": [
    {
     "name": "stdout",
     "output_type": "stream",
     "text": [
      "```python\n",
      "import pandas as pd\n",
      "\n",
      "# Load the dataset\n",
      "filename = 'outputs/icu_microbiologyevents.csv.gz'\n",
      "data = pd.read_csv(filename)\n",
      "\n",
      "# Filter data for patient with subject_id 10001217 and hadm_id (any admission)\n",
      "patient_data = data[data['subject_id'] == 10001217]\n",
      "\n",
      "# Further filter data where test_name is 'wound culture'\n",
      "wound_culture_events = patient_data[patient_data['test_name'] == 'wound culture']\n",
      "\n",
      "# Count the number of wound culture events\n",
      "result = len(wound_culture_events)\n",
      "print(result)\n",
      "```\n"
     ]
    }
   ],
   "source": [
    "# extract information from discharge summary\n",
    "description_text = description_text\n",
    "prompt_text = prompt_text\n",
    "question_text = \"How many times was wound culture microbiology event recorded for patient 10001217 during their admission?\"\n",
    "input_text = description_text + \" \" + prompt_text + \" \" + question_text\n",
    "\n",
    "response = ollama.chat(model=\"qwen2.5:14b\", messages = [{\"role\": \"user\", \"content\": input_text,}],\n",
    "                       stream=False)\n",
    "answer_text = response[\"message\"][\"content\"]\n",
    "print(answer_text)"
   ]
  },
  {
   "cell_type": "code",
   "execution_count": null,
   "metadata": {},
   "outputs": [
    {
     "name": "stdout",
     "output_type": "stream",
     "text": [
      "1\n"
     ]
    }
   ],
   "source": [
    "import pandas as pd\n",
    "\n",
    "# Load the dataset\n",
    "filename = 'outputs/icu_microbiologyevents.csv.gz'\n",
    "data = pd.read_csv(filename)\n",
    "\n",
    "# Filter data for patient with subject_id 10001217 and hadm_id (any admission)\n",
    "patient_data = data[data['subject_id'] == 10001217]\n",
    "\n",
    "# Further filter data where test_name is 'wound culture'\n",
    "wound_culture_events = patient_data[patient_data['test_name'] == 'wound culture']\n",
    "\n",
    "# Count the number of wound culture events\n",
    "result = len(wound_culture_events)\n",
    "print(result)"
   ]
  }
 ],
 "metadata": {
  "kernelspec": {
   "display_name": "PyTorch",
   "language": "python",
   "name": "python3"
  },
  "language_info": {
   "codemirror_mode": {
    "name": "ipython",
    "version": 3
   },
   "file_extension": ".py",
   "mimetype": "text/x-python",
   "name": "python",
   "nbconvert_exporter": "python",
   "pygments_lexer": "ipython3",
   "version": "3.10.10"
  }
 },
 "nbformat": 4,
 "nbformat_minor": 2
}
